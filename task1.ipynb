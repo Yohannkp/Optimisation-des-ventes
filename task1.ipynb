{
 "cells": [
  {
   "cell_type": "code",
   "execution_count": 19,
   "id": "50d05170",
   "metadata": {},
   "outputs": [
    {
     "data": {
      "application/vnd.microsoft.datawrangler.viewer.v0+json": {
       "columns": [
        {
         "name": "index",
         "rawType": "int64",
         "type": "integer"
        },
        {
         "name": "DATE",
         "rawType": "int64",
         "type": "integer"
        },
        {
         "name": "STORE_NBR",
         "rawType": "int64",
         "type": "integer"
        },
        {
         "name": "LYLTY_CARD_NBR",
         "rawType": "int64",
         "type": "integer"
        },
        {
         "name": "TXN_ID",
         "rawType": "int64",
         "type": "integer"
        },
        {
         "name": "PROD_NBR",
         "rawType": "int64",
         "type": "integer"
        },
        {
         "name": "PROD_NAME",
         "rawType": "object",
         "type": "string"
        },
        {
         "name": "PROD_QTY",
         "rawType": "int64",
         "type": "integer"
        },
        {
         "name": "TOT_SALES",
         "rawType": "float64",
         "type": "float"
        },
        {
         "name": "LIFESTAGE",
         "rawType": "object",
         "type": "string"
        },
        {
         "name": "PREMIUM_CUSTOMER",
         "rawType": "object",
         "type": "string"
        }
       ],
       "ref": "339980ab-1984-410d-b4b3-08d2430f3fa0",
       "rows": [
        [
         "0",
         "43390",
         "1",
         "1000",
         "1",
         "5",
         "Natural Chip        Compny SeaSalt175g",
         "2",
         "6.0",
         "YOUNG SINGLES/COUPLES",
         "Premium"
        ],
        [
         "1",
         "43599",
         "1",
         "1307",
         "348",
         "66",
         "CCs Nacho Cheese    175g",
         "3",
         "6.3",
         "MIDAGE SINGLES/COUPLES",
         "Budget"
        ],
        [
         "2",
         "43414",
         "1",
         "1307",
         "346",
         "96",
         "WW Original Stacked Chips 160g",
         "2",
         "3.8",
         "MIDAGE SINGLES/COUPLES",
         "Budget"
        ],
        [
         "3",
         "43533",
         "1",
         "1307",
         "347",
         "54",
         "CCs Original 175g",
         "1",
         "2.1",
         "MIDAGE SINGLES/COUPLES",
         "Budget"
        ],
        [
         "4",
         "43605",
         "1",
         "1343",
         "383",
         "61",
         "Smiths Crinkle Cut  Chips Chicken 170g",
         "2",
         "2.9",
         "MIDAGE SINGLES/COUPLES",
         "Budget"
        ]
       ],
       "shape": {
        "columns": 10,
        "rows": 5
       }
      },
      "text/html": [
       "<div>\n",
       "<style scoped>\n",
       "    .dataframe tbody tr th:only-of-type {\n",
       "        vertical-align: middle;\n",
       "    }\n",
       "\n",
       "    .dataframe tbody tr th {\n",
       "        vertical-align: top;\n",
       "    }\n",
       "\n",
       "    .dataframe thead th {\n",
       "        text-align: right;\n",
       "    }\n",
       "</style>\n",
       "<table border=\"1\" class=\"dataframe\">\n",
       "  <thead>\n",
       "    <tr style=\"text-align: right;\">\n",
       "      <th></th>\n",
       "      <th>DATE</th>\n",
       "      <th>STORE_NBR</th>\n",
       "      <th>LYLTY_CARD_NBR</th>\n",
       "      <th>TXN_ID</th>\n",
       "      <th>PROD_NBR</th>\n",
       "      <th>PROD_NAME</th>\n",
       "      <th>PROD_QTY</th>\n",
       "      <th>TOT_SALES</th>\n",
       "      <th>LIFESTAGE</th>\n",
       "      <th>PREMIUM_CUSTOMER</th>\n",
       "    </tr>\n",
       "  </thead>\n",
       "  <tbody>\n",
       "    <tr>\n",
       "      <th>0</th>\n",
       "      <td>43390</td>\n",
       "      <td>1</td>\n",
       "      <td>1000</td>\n",
       "      <td>1</td>\n",
       "      <td>5</td>\n",
       "      <td>Natural Chip        Compny SeaSalt175g</td>\n",
       "      <td>2</td>\n",
       "      <td>6.0</td>\n",
       "      <td>YOUNG SINGLES/COUPLES</td>\n",
       "      <td>Premium</td>\n",
       "    </tr>\n",
       "    <tr>\n",
       "      <th>1</th>\n",
       "      <td>43599</td>\n",
       "      <td>1</td>\n",
       "      <td>1307</td>\n",
       "      <td>348</td>\n",
       "      <td>66</td>\n",
       "      <td>CCs Nacho Cheese    175g</td>\n",
       "      <td>3</td>\n",
       "      <td>6.3</td>\n",
       "      <td>MIDAGE SINGLES/COUPLES</td>\n",
       "      <td>Budget</td>\n",
       "    </tr>\n",
       "    <tr>\n",
       "      <th>2</th>\n",
       "      <td>43414</td>\n",
       "      <td>1</td>\n",
       "      <td>1307</td>\n",
       "      <td>346</td>\n",
       "      <td>96</td>\n",
       "      <td>WW Original Stacked Chips 160g</td>\n",
       "      <td>2</td>\n",
       "      <td>3.8</td>\n",
       "      <td>MIDAGE SINGLES/COUPLES</td>\n",
       "      <td>Budget</td>\n",
       "    </tr>\n",
       "    <tr>\n",
       "      <th>3</th>\n",
       "      <td>43533</td>\n",
       "      <td>1</td>\n",
       "      <td>1307</td>\n",
       "      <td>347</td>\n",
       "      <td>54</td>\n",
       "      <td>CCs Original 175g</td>\n",
       "      <td>1</td>\n",
       "      <td>2.1</td>\n",
       "      <td>MIDAGE SINGLES/COUPLES</td>\n",
       "      <td>Budget</td>\n",
       "    </tr>\n",
       "    <tr>\n",
       "      <th>4</th>\n",
       "      <td>43605</td>\n",
       "      <td>1</td>\n",
       "      <td>1343</td>\n",
       "      <td>383</td>\n",
       "      <td>61</td>\n",
       "      <td>Smiths Crinkle Cut  Chips Chicken 170g</td>\n",
       "      <td>2</td>\n",
       "      <td>2.9</td>\n",
       "      <td>MIDAGE SINGLES/COUPLES</td>\n",
       "      <td>Budget</td>\n",
       "    </tr>\n",
       "  </tbody>\n",
       "</table>\n",
       "</div>"
      ],
      "text/plain": [
       "    DATE  STORE_NBR  LYLTY_CARD_NBR  TXN_ID  PROD_NBR  \\\n",
       "0  43390          1            1000       1         5   \n",
       "1  43599          1            1307     348        66   \n",
       "2  43414          1            1307     346        96   \n",
       "3  43533          1            1307     347        54   \n",
       "4  43605          1            1343     383        61   \n",
       "\n",
       "                                PROD_NAME  PROD_QTY  TOT_SALES  \\\n",
       "0  Natural Chip        Compny SeaSalt175g         2        6.0   \n",
       "1                CCs Nacho Cheese    175g         3        6.3   \n",
       "2          WW Original Stacked Chips 160g         2        3.8   \n",
       "3                       CCs Original 175g         1        2.1   \n",
       "4  Smiths Crinkle Cut  Chips Chicken 170g         2        2.9   \n",
       "\n",
       "                LIFESTAGE PREMIUM_CUSTOMER  \n",
       "0   YOUNG SINGLES/COUPLES          Premium  \n",
       "1  MIDAGE SINGLES/COUPLES           Budget  \n",
       "2  MIDAGE SINGLES/COUPLES           Budget  \n",
       "3  MIDAGE SINGLES/COUPLES           Budget  \n",
       "4  MIDAGE SINGLES/COUPLES           Budget  "
      ]
     },
     "execution_count": 19,
     "metadata": {},
     "output_type": "execute_result"
    }
   ],
   "source": [
    "#Importation des bibliothèques nécessaires\n",
    "import pandas as pd\n",
    "\n",
    "df1 = pd.read_excel('QVI_transaction_data.xlsx')\n",
    "df2 = pd.read_csv('QVI_purchase_behaviour.csv')\n",
    "\n",
    "df = pd.merge(df1, df2, left_on='LYLTY_CARD_NBR', right_on='LYLTY_CARD_NBR', suffixes=('_trans', '_behav'))\n",
    "\n",
    "# Affiche les 5 premières lignes du dataset\n",
    "df.head()"
   ]
  },
  {
   "cell_type": "code",
   "execution_count": 59,
   "id": "c370f416",
   "metadata": {},
   "outputs": [
    {
     "name": "stdout",
     "output_type": "stream",
     "text": [
      "<class 'pandas.core.frame.DataFrame'>\n",
      "RangeIndex: 236004 entries, 0 to 236003\n",
      "Data columns (total 12 columns):\n",
      " #   Column            Non-Null Count   Dtype         \n",
      "---  ------            --------------   -----         \n",
      " 0   DATE              236004 non-null  datetime64[ns]\n",
      " 1   STORE_NBR         236004 non-null  int64         \n",
      " 2   LYLTY_CARD_NBR    236004 non-null  int64         \n",
      " 3   TXN_ID            236004 non-null  int64         \n",
      " 4   PROD_NBR          236004 non-null  int64         \n",
      " 5   PROD_NAME         236004 non-null  object        \n",
      " 6   PROD_QTY          236004 non-null  int64         \n",
      " 7   TOT_SALES         236004 non-null  float64       \n",
      " 8   LIFESTAGE         236004 non-null  object        \n",
      " 9   PREMIUM_CUSTOMER  236004 non-null  object        \n",
      " 10  PACK_SIZE         236004 non-null  float64       \n",
      " 11  BRAND             236004 non-null  object        \n",
      "dtypes: datetime64[ns](1), float64(2), int64(5), object(4)\n",
      "memory usage: 21.6+ MB\n"
     ]
    },
    {
     "name": "stderr",
     "output_type": "stream",
     "text": [
      "C:\\Users\\yohar\\AppData\\Local\\Temp\\ipykernel_39668\\3968673605.py:4: FutureWarning: Treating datetime data as categorical rather than numeric in `.describe` is deprecated and will be removed in a future version of pandas. Specify `datetime_is_numeric=True` to silence this warning and adopt the future behavior now.\n",
      "  df.describe(include='all')\n"
     ]
    },
    {
     "data": {
      "application/vnd.microsoft.datawrangler.viewer.v0+json": {
       "columns": [
        {
         "name": "index",
         "rawType": "object",
         "type": "string"
        },
        {
         "name": "DATE",
         "rawType": "object",
         "type": "string"
        },
        {
         "name": "STORE_NBR",
         "rawType": "float64",
         "type": "float"
        },
        {
         "name": "LYLTY_CARD_NBR",
         "rawType": "float64",
         "type": "float"
        },
        {
         "name": "TXN_ID",
         "rawType": "float64",
         "type": "float"
        },
        {
         "name": "PROD_NBR",
         "rawType": "float64",
         "type": "float"
        },
        {
         "name": "PROD_NAME",
         "rawType": "object",
         "type": "string"
        },
        {
         "name": "PROD_QTY",
         "rawType": "float64",
         "type": "float"
        },
        {
         "name": "TOT_SALES",
         "rawType": "float64",
         "type": "float"
        },
        {
         "name": "LIFESTAGE",
         "rawType": "object",
         "type": "string"
        },
        {
         "name": "PREMIUM_CUSTOMER",
         "rawType": "object",
         "type": "string"
        },
        {
         "name": "PACK_SIZE",
         "rawType": "float64",
         "type": "float"
        },
        {
         "name": "BRAND",
         "rawType": "object",
         "type": "string"
        }
       ],
       "ref": "221403c8-05dc-4300-b124-a614f04ab427",
       "rows": [
        [
         "count",
         "236004",
         "236004.0",
         "236004.0",
         "236004.0",
         "236004.0",
         "236004",
         "236004.0",
         "236004.0",
         "236004",
         "236004",
         "236004.0",
         "236004"
        ],
        [
         "unique",
         "364",
         null,
         null,
         null,
         null,
         "114",
         null,
         null,
         "7",
         "3",
         null,
         "29"
        ],
        [
         "top",
         "2018-12-24 00:00:00",
         null,
         null,
         null,
         null,
         "Kettle Mozzarella   Basil & Pesto 175g",
         null,
         null,
         "OLDER SINGLES/COUPLES",
         "Mainstream",
         null,
         "Kettle"
        ],
        [
         "freq",
         "879",
         null,
         null,
         null,
         null,
         "3002",
         null,
         null,
         "48965",
         "90550",
         null,
         "37190"
        ],
        [
         "first",
         "2018-07-01 00:00:00",
         null,
         null,
         null,
         null,
         null,
         null,
         null,
         null,
         null,
         null,
         null
        ],
        [
         "last",
         "2019-06-30 00:00:00",
         null,
         null,
         null,
         null,
         null,
         null,
         null,
         null,
         null,
         null,
         null
        ],
        [
         "mean",
         null,
         "135.21789461195573",
         "135383.25827528347",
         "135288.46058965102",
         "56.5552744868731",
         null,
         "2.0",
         "7.6756139726445305",
         null,
         null,
         "182.45234826528363",
         null
        ],
        [
         "std",
         null,
         "76.24129771905622",
         "76240.11021935189",
         "77490.66218414067",
         "32.821080598768575",
         null,
         "0.0",
         "2.215802609485406",
         null,
         null,
         "64.43608839484023",
         null
        ],
        [
         "min",
         null,
         "1.0",
         "1000.0",
         "1.0",
         "1.0",
         null,
         "2.0",
         "2.7",
         null,
         null,
         "70.0",
         null
        ],
        [
         "25%",
         null,
         "70.0",
         "70090.0",
         "68010.75",
         "28.0",
         null,
         "2.0",
         "6.0",
         null,
         null,
         "150.0",
         null
        ],
        [
         "50%",
         null,
         "130.0",
         "130180.0",
         "134408.5",
         "56.0",
         null,
         "2.0",
         "7.6",
         null,
         null,
         "170.0",
         null
        ],
        [
         "75%",
         null,
         "203.0",
         "203171.0",
         "202999.25",
         "85.0",
         null,
         "2.0",
         "9.2",
         null,
         null,
         "175.0",
         null
        ],
        [
         "max",
         null,
         "272.0",
         "272392.0",
         "270209.0",
         "114.0",
         null,
         "2.0",
         "13.0",
         null,
         null,
         "380.0",
         null
        ]
       ],
       "shape": {
        "columns": 12,
        "rows": 13
       }
      },
      "text/html": [
       "<div>\n",
       "<style scoped>\n",
       "    .dataframe tbody tr th:only-of-type {\n",
       "        vertical-align: middle;\n",
       "    }\n",
       "\n",
       "    .dataframe tbody tr th {\n",
       "        vertical-align: top;\n",
       "    }\n",
       "\n",
       "    .dataframe thead th {\n",
       "        text-align: right;\n",
       "    }\n",
       "</style>\n",
       "<table border=\"1\" class=\"dataframe\">\n",
       "  <thead>\n",
       "    <tr style=\"text-align: right;\">\n",
       "      <th></th>\n",
       "      <th>DATE</th>\n",
       "      <th>STORE_NBR</th>\n",
       "      <th>LYLTY_CARD_NBR</th>\n",
       "      <th>TXN_ID</th>\n",
       "      <th>PROD_NBR</th>\n",
       "      <th>PROD_NAME</th>\n",
       "      <th>PROD_QTY</th>\n",
       "      <th>TOT_SALES</th>\n",
       "      <th>LIFESTAGE</th>\n",
       "      <th>PREMIUM_CUSTOMER</th>\n",
       "      <th>PACK_SIZE</th>\n",
       "      <th>BRAND</th>\n",
       "    </tr>\n",
       "  </thead>\n",
       "  <tbody>\n",
       "    <tr>\n",
       "      <th>count</th>\n",
       "      <td>236004</td>\n",
       "      <td>236004.000000</td>\n",
       "      <td>236004.000000</td>\n",
       "      <td>236004.000000</td>\n",
       "      <td>236004.000000</td>\n",
       "      <td>236004</td>\n",
       "      <td>236004.0</td>\n",
       "      <td>236004.000000</td>\n",
       "      <td>236004</td>\n",
       "      <td>236004</td>\n",
       "      <td>236004.000000</td>\n",
       "      <td>236004</td>\n",
       "    </tr>\n",
       "    <tr>\n",
       "      <th>unique</th>\n",
       "      <td>364</td>\n",
       "      <td>NaN</td>\n",
       "      <td>NaN</td>\n",
       "      <td>NaN</td>\n",
       "      <td>NaN</td>\n",
       "      <td>114</td>\n",
       "      <td>NaN</td>\n",
       "      <td>NaN</td>\n",
       "      <td>7</td>\n",
       "      <td>3</td>\n",
       "      <td>NaN</td>\n",
       "      <td>29</td>\n",
       "    </tr>\n",
       "    <tr>\n",
       "      <th>top</th>\n",
       "      <td>2018-12-24 00:00:00</td>\n",
       "      <td>NaN</td>\n",
       "      <td>NaN</td>\n",
       "      <td>NaN</td>\n",
       "      <td>NaN</td>\n",
       "      <td>Kettle Mozzarella   Basil &amp; Pesto 175g</td>\n",
       "      <td>NaN</td>\n",
       "      <td>NaN</td>\n",
       "      <td>OLDER SINGLES/COUPLES</td>\n",
       "      <td>Mainstream</td>\n",
       "      <td>NaN</td>\n",
       "      <td>Kettle</td>\n",
       "    </tr>\n",
       "    <tr>\n",
       "      <th>freq</th>\n",
       "      <td>879</td>\n",
       "      <td>NaN</td>\n",
       "      <td>NaN</td>\n",
       "      <td>NaN</td>\n",
       "      <td>NaN</td>\n",
       "      <td>3002</td>\n",
       "      <td>NaN</td>\n",
       "      <td>NaN</td>\n",
       "      <td>48965</td>\n",
       "      <td>90550</td>\n",
       "      <td>NaN</td>\n",
       "      <td>37190</td>\n",
       "    </tr>\n",
       "    <tr>\n",
       "      <th>first</th>\n",
       "      <td>2018-07-01 00:00:00</td>\n",
       "      <td>NaN</td>\n",
       "      <td>NaN</td>\n",
       "      <td>NaN</td>\n",
       "      <td>NaN</td>\n",
       "      <td>NaN</td>\n",
       "      <td>NaN</td>\n",
       "      <td>NaN</td>\n",
       "      <td>NaN</td>\n",
       "      <td>NaN</td>\n",
       "      <td>NaN</td>\n",
       "      <td>NaN</td>\n",
       "    </tr>\n",
       "    <tr>\n",
       "      <th>last</th>\n",
       "      <td>2019-06-30 00:00:00</td>\n",
       "      <td>NaN</td>\n",
       "      <td>NaN</td>\n",
       "      <td>NaN</td>\n",
       "      <td>NaN</td>\n",
       "      <td>NaN</td>\n",
       "      <td>NaN</td>\n",
       "      <td>NaN</td>\n",
       "      <td>NaN</td>\n",
       "      <td>NaN</td>\n",
       "      <td>NaN</td>\n",
       "      <td>NaN</td>\n",
       "    </tr>\n",
       "    <tr>\n",
       "      <th>mean</th>\n",
       "      <td>NaN</td>\n",
       "      <td>135.217895</td>\n",
       "      <td>135383.258275</td>\n",
       "      <td>135288.460590</td>\n",
       "      <td>56.555274</td>\n",
       "      <td>NaN</td>\n",
       "      <td>2.0</td>\n",
       "      <td>7.675614</td>\n",
       "      <td>NaN</td>\n",
       "      <td>NaN</td>\n",
       "      <td>182.452348</td>\n",
       "      <td>NaN</td>\n",
       "    </tr>\n",
       "    <tr>\n",
       "      <th>std</th>\n",
       "      <td>NaN</td>\n",
       "      <td>76.241298</td>\n",
       "      <td>76240.110219</td>\n",
       "      <td>77490.662184</td>\n",
       "      <td>32.821081</td>\n",
       "      <td>NaN</td>\n",
       "      <td>0.0</td>\n",
       "      <td>2.215803</td>\n",
       "      <td>NaN</td>\n",
       "      <td>NaN</td>\n",
       "      <td>64.436088</td>\n",
       "      <td>NaN</td>\n",
       "    </tr>\n",
       "    <tr>\n",
       "      <th>min</th>\n",
       "      <td>NaN</td>\n",
       "      <td>1.000000</td>\n",
       "      <td>1000.000000</td>\n",
       "      <td>1.000000</td>\n",
       "      <td>1.000000</td>\n",
       "      <td>NaN</td>\n",
       "      <td>2.0</td>\n",
       "      <td>2.700000</td>\n",
       "      <td>NaN</td>\n",
       "      <td>NaN</td>\n",
       "      <td>70.000000</td>\n",
       "      <td>NaN</td>\n",
       "    </tr>\n",
       "    <tr>\n",
       "      <th>25%</th>\n",
       "      <td>NaN</td>\n",
       "      <td>70.000000</td>\n",
       "      <td>70090.000000</td>\n",
       "      <td>68010.750000</td>\n",
       "      <td>28.000000</td>\n",
       "      <td>NaN</td>\n",
       "      <td>2.0</td>\n",
       "      <td>6.000000</td>\n",
       "      <td>NaN</td>\n",
       "      <td>NaN</td>\n",
       "      <td>150.000000</td>\n",
       "      <td>NaN</td>\n",
       "    </tr>\n",
       "    <tr>\n",
       "      <th>50%</th>\n",
       "      <td>NaN</td>\n",
       "      <td>130.000000</td>\n",
       "      <td>130180.000000</td>\n",
       "      <td>134408.500000</td>\n",
       "      <td>56.000000</td>\n",
       "      <td>NaN</td>\n",
       "      <td>2.0</td>\n",
       "      <td>7.600000</td>\n",
       "      <td>NaN</td>\n",
       "      <td>NaN</td>\n",
       "      <td>170.000000</td>\n",
       "      <td>NaN</td>\n",
       "    </tr>\n",
       "    <tr>\n",
       "      <th>75%</th>\n",
       "      <td>NaN</td>\n",
       "      <td>203.000000</td>\n",
       "      <td>203171.000000</td>\n",
       "      <td>202999.250000</td>\n",
       "      <td>85.000000</td>\n",
       "      <td>NaN</td>\n",
       "      <td>2.0</td>\n",
       "      <td>9.200000</td>\n",
       "      <td>NaN</td>\n",
       "      <td>NaN</td>\n",
       "      <td>175.000000</td>\n",
       "      <td>NaN</td>\n",
       "    </tr>\n",
       "    <tr>\n",
       "      <th>max</th>\n",
       "      <td>NaN</td>\n",
       "      <td>272.000000</td>\n",
       "      <td>272392.000000</td>\n",
       "      <td>270209.000000</td>\n",
       "      <td>114.000000</td>\n",
       "      <td>NaN</td>\n",
       "      <td>2.0</td>\n",
       "      <td>13.000000</td>\n",
       "      <td>NaN</td>\n",
       "      <td>NaN</td>\n",
       "      <td>380.000000</td>\n",
       "      <td>NaN</td>\n",
       "    </tr>\n",
       "  </tbody>\n",
       "</table>\n",
       "</div>"
      ],
      "text/plain": [
       "                       DATE      STORE_NBR  LYLTY_CARD_NBR         TXN_ID  \\\n",
       "count                236004  236004.000000   236004.000000  236004.000000   \n",
       "unique                  364            NaN             NaN            NaN   \n",
       "top     2018-12-24 00:00:00            NaN             NaN            NaN   \n",
       "freq                    879            NaN             NaN            NaN   \n",
       "first   2018-07-01 00:00:00            NaN             NaN            NaN   \n",
       "last    2019-06-30 00:00:00            NaN             NaN            NaN   \n",
       "mean                    NaN     135.217895   135383.258275  135288.460590   \n",
       "std                     NaN      76.241298    76240.110219   77490.662184   \n",
       "min                     NaN       1.000000     1000.000000       1.000000   \n",
       "25%                     NaN      70.000000    70090.000000   68010.750000   \n",
       "50%                     NaN     130.000000   130180.000000  134408.500000   \n",
       "75%                     NaN     203.000000   203171.000000  202999.250000   \n",
       "max                     NaN     272.000000   272392.000000  270209.000000   \n",
       "\n",
       "             PROD_NBR                               PROD_NAME  PROD_QTY  \\\n",
       "count   236004.000000                                  236004  236004.0   \n",
       "unique            NaN                                     114       NaN   \n",
       "top               NaN  Kettle Mozzarella   Basil & Pesto 175g       NaN   \n",
       "freq              NaN                                    3002       NaN   \n",
       "first             NaN                                     NaN       NaN   \n",
       "last              NaN                                     NaN       NaN   \n",
       "mean        56.555274                                     NaN       2.0   \n",
       "std         32.821081                                     NaN       0.0   \n",
       "min          1.000000                                     NaN       2.0   \n",
       "25%         28.000000                                     NaN       2.0   \n",
       "50%         56.000000                                     NaN       2.0   \n",
       "75%         85.000000                                     NaN       2.0   \n",
       "max        114.000000                                     NaN       2.0   \n",
       "\n",
       "            TOT_SALES              LIFESTAGE PREMIUM_CUSTOMER      PACK_SIZE  \\\n",
       "count   236004.000000                 236004           236004  236004.000000   \n",
       "unique            NaN                      7                3            NaN   \n",
       "top               NaN  OLDER SINGLES/COUPLES       Mainstream            NaN   \n",
       "freq              NaN                  48965            90550            NaN   \n",
       "first             NaN                    NaN              NaN            NaN   \n",
       "last              NaN                    NaN              NaN            NaN   \n",
       "mean         7.675614                    NaN              NaN     182.452348   \n",
       "std          2.215803                    NaN              NaN      64.436088   \n",
       "min          2.700000                    NaN              NaN      70.000000   \n",
       "25%          6.000000                    NaN              NaN     150.000000   \n",
       "50%          7.600000                    NaN              NaN     170.000000   \n",
       "75%          9.200000                    NaN              NaN     175.000000   \n",
       "max         13.000000                    NaN              NaN     380.000000   \n",
       "\n",
       "         BRAND  \n",
       "count   236004  \n",
       "unique      29  \n",
       "top     Kettle  \n",
       "freq     37190  \n",
       "first      NaN  \n",
       "last       NaN  \n",
       "mean       NaN  \n",
       "std        NaN  \n",
       "min        NaN  \n",
       "25%        NaN  \n",
       "50%        NaN  \n",
       "75%        NaN  \n",
       "max        NaN  "
      ]
     },
     "execution_count": 59,
     "metadata": {},
     "output_type": "execute_result"
    }
   ],
   "source": [
    "# Affichage des informations du DataFrame fusionné\n",
    "df.info()\n",
    "df.shape\n",
    "df.describe(include='all')"
   ]
  },
  {
   "cell_type": "code",
   "execution_count": 46,
   "id": "07e080e4",
   "metadata": {},
   "outputs": [
    {
     "name": "stdout",
     "output_type": "stream",
     "text": [
      "DATE                0\n",
      "STORE_NBR           0\n",
      "LYLTY_CARD_NBR      0\n",
      "TXN_ID              0\n",
      "PROD_NBR            0\n",
      "PROD_NAME           0\n",
      "PROD_QTY            0\n",
      "TOT_SALES           0\n",
      "LIFESTAGE           0\n",
      "PREMIUM_CUSTOMER    0\n",
      "PACK_SIZE           0\n",
      "BRAND               0\n",
      "dtype: int64\n",
      "DATE                0\n",
      "STORE_NBR           0\n",
      "LYLTY_CARD_NBR      0\n",
      "TXN_ID              0\n",
      "PROD_NBR            0\n",
      "PROD_NAME           0\n",
      "PROD_QTY            0\n",
      "TOT_SALES           0\n",
      "LIFESTAGE           0\n",
      "PREMIUM_CUSTOMER    0\n",
      "PACK_SIZE           0\n",
      "BRAND               0\n",
      "dtype: int64\n"
     ]
    }
   ],
   "source": [
    "# Gestion des valeurs manquantes\n",
    "\n",
    "# Afficher le nombre de valeurs manquantes par colonne\n",
    "print(df.isnull().sum())\n",
    "\n",
    "# Exemple de traitement : suppression ou imputation\n",
    "# Ici, on choisit d'imputer les valeurs manquantes numériques par la médiane et les catégorielles par le mode\n",
    "\n",
    "for col in df.columns:\n",
    "    if df[col].isnull().any():\n",
    "        if df[col].dtype in ['float64', 'int64']:\n",
    "            median_value = df[col].median()\n",
    "            df[col].fillna(median_value, inplace=True)\n",
    "        else:\n",
    "            mode_value = df[col].mode()[0]\n",
    "            df[col].fillna(mode_value, inplace=True)\n",
    "\n",
    "# Vérification après traitement\n",
    "print(df.isnull().sum())"
   ]
  },
  {
   "cell_type": "code",
   "execution_count": 29,
   "id": "8054fc48",
   "metadata": {},
   "outputs": [
    {
     "data": {
      "image/png": "[encoded data removed]",
      "text/plain": [
       "<Figure size 1200x600 with 1 Axes>"
      ]
     },
     "metadata": {},
     "output_type": "display_data"
    }
   ],
   "source": [
    "import matplotlib.pyplot as plt\n",
    "\n",
    "# Afficher un boxplot pour chaque colonne numérique du DataFrame df\n",
    "df[numeric_cols].boxplot(figsize=(12, 6))\n",
    "plt.title(\"Boxplot des colonnes numériques\")\n",
    "plt.ylabel(\"Valeurs\")\n",
    "plt.show()"
   ]
  },
  {
   "cell_type": "code",
   "execution_count": 31,
   "id": "df7b88c8",
   "metadata": {},
   "outputs": [],
   "source": [
    "# Suppression des outliers pour toutes les colonnes numériques compatibles\n",
    "df_no_outliers = df.copy()\n",
    "for col in numeric_cols:\n",
    "    Q1 = df_no_outliers[col].quantile(0.25)\n",
    "    Q3 = df_no_outliers[col].quantile(0.75)\n",
    "    IQR = Q3 - Q1\n",
    "    lower_bound = Q1 - 1.5 * IQR\n",
    "    upper_bound = Q3 + 1.5 * IQR\n",
    "    df_no_outliers = df_no_outliers[(df_no_outliers[col] >= lower_bound) & (df_no_outliers[col] <= upper_bound)]\n",
    "\n",
    "df_no_outliers.reset_index(drop=True, inplace=True)\n",
    "df = df_no_outliers"
   ]
  },
  {
   "cell_type": "code",
   "execution_count": 33,
   "id": "d4ca11c2",
   "metadata": {},
   "outputs": [
    {
     "name": "stdout",
     "output_type": "stream",
     "text": [
      "DATE                datetime64[ns]\n",
      "STORE_NBR                    int64\n",
      "LYLTY_CARD_NBR               int64\n",
      "TXN_ID                       int64\n",
      "PROD_NBR                     int64\n",
      "PROD_NAME                   object\n",
      "PROD_QTY                     int64\n",
      "TOT_SALES                  float64\n",
      "LIFESTAGE                   object\n",
      "PREMIUM_CUSTOMER            object\n",
      "PACK_SIZE                  float64\n",
      "BRAND                       object\n",
      "dtype: object\n"
     ]
    }
   ],
   "source": [
    "# Vérification et correction des formats de données pour les colonnes importantes\n",
    "\n",
    "# Vérifier le type de la colonne 'DATE'\n",
    "if not pd.api.types.is_datetime64_any_dtype(df['DATE']):\n",
    "    df['DATE'] = pd.to_datetime(df['DATE'], errors='coerce')\n",
    "\n",
    "# Vérifier les types numériques\n",
    "numeric_columns = ['STORE_NBR', 'LYLTY_CARD_NBR', 'TXN_ID', 'PROD_NBR', 'PROD_QTY', 'TOT_SALES', 'PACK_SIZE']\n",
    "for col in numeric_columns:\n",
    "    if not pd.api.types.is_numeric_dtype(df[col]):\n",
    "        df[col] = pd.to_numeric(df[col], errors='coerce')\n",
    "\n",
    "# Vérifier les types de colonnes catégorielles\n",
    "categorical_columns = ['PROD_NAME', 'LIFESTAGE', 'PREMIUM_CUSTOMER', 'BRAND']\n",
    "for col in categorical_columns:\n",
    "    if not pd.api.types.is_object_dtype(df[col]):\n",
    "        df[col] = df[col].astype(str)\n",
    "\n",
    "# Afficher les types de données après correction\n",
    "print(df.dtypes)"
   ]
  },
  {
   "cell_type": "code",
   "execution_count": 34,
   "id": "685c6fa7",
   "metadata": {},
   "outputs": [
    {
     "data": {
      "application/vnd.microsoft.datawrangler.viewer.v0+json": {
       "columns": [
        {
         "name": "index",
         "rawType": "int64",
         "type": "integer"
        },
        {
         "name": "PROD_NAME",
         "rawType": "object",
         "type": "string"
        },
        {
         "name": "PACK_SIZE",
         "rawType": "float64",
         "type": "float"
        },
        {
         "name": "BRAND",
         "rawType": "object",
         "type": "string"
        }
       ],
       "ref": "544d4ba2-e724-4535-8337-763f1890a6db",
       "rows": [
        [
         "0",
         "Natural Chip        Compny SeaSalt175g",
         "175.0",
         "Natural"
        ],
        [
         "1",
         "WW Original Stacked Chips 160g",
         "160.0",
         "WW"
        ],
        [
         "2",
         "Smiths Crinkle Cut  Chips Chicken 170g",
         "170.0",
         "Smiths"
        ],
        [
         "3",
         "Tyrrells Crisps     Lightly Salted 165g",
         "165.0",
         "Tyrrells"
        ],
        [
         "4",
         "Kettle Tortilla ChpsFeta&Garlic 150g",
         "150.0",
         "Kettle"
        ]
       ],
       "shape": {
        "columns": 3,
        "rows": 5
       }
      },
      "text/html": [
       "<div>\n",
       "<style scoped>\n",
       "    .dataframe tbody tr th:only-of-type {\n",
       "        vertical-align: middle;\n",
       "    }\n",
       "\n",
       "    .dataframe tbody tr th {\n",
       "        vertical-align: top;\n",
       "    }\n",
       "\n",
       "    .dataframe thead th {\n",
       "        text-align: right;\n",
       "    }\n",
       "</style>\n",
       "<table border=\"1\" class=\"dataframe\">\n",
       "  <thead>\n",
       "    <tr style=\"text-align: right;\">\n",
       "      <th></th>\n",
       "      <th>PROD_NAME</th>\n",
       "      <th>PACK_SIZE</th>\n",
       "      <th>BRAND</th>\n",
       "    </tr>\n",
       "  </thead>\n",
       "  <tbody>\n",
       "    <tr>\n",
       "      <th>0</th>\n",
       "      <td>Natural Chip        Compny SeaSalt175g</td>\n",
       "      <td>175.0</td>\n",
       "      <td>Natural</td>\n",
       "    </tr>\n",
       "    <tr>\n",
       "      <th>1</th>\n",
       "      <td>WW Original Stacked Chips 160g</td>\n",
       "      <td>160.0</td>\n",
       "      <td>WW</td>\n",
       "    </tr>\n",
       "    <tr>\n",
       "      <th>2</th>\n",
       "      <td>Smiths Crinkle Cut  Chips Chicken 170g</td>\n",
       "      <td>170.0</td>\n",
       "      <td>Smiths</td>\n",
       "    </tr>\n",
       "    <tr>\n",
       "      <th>3</th>\n",
       "      <td>Tyrrells Crisps     Lightly Salted 165g</td>\n",
       "      <td>165.0</td>\n",
       "      <td>Tyrrells</td>\n",
       "    </tr>\n",
       "    <tr>\n",
       "      <th>4</th>\n",
       "      <td>Kettle Tortilla ChpsFeta&amp;Garlic 150g</td>\n",
       "      <td>150.0</td>\n",
       "      <td>Kettle</td>\n",
       "    </tr>\n",
       "  </tbody>\n",
       "</table>\n",
       "</div>"
      ],
      "text/plain": [
       "                                 PROD_NAME  PACK_SIZE     BRAND\n",
       "0   Natural Chip        Compny SeaSalt175g      175.0   Natural\n",
       "1           WW Original Stacked Chips 160g      160.0        WW\n",
       "2   Smiths Crinkle Cut  Chips Chicken 170g      170.0    Smiths\n",
       "3  Tyrrells Crisps     Lightly Salted 165g      165.0  Tyrrells\n",
       "4     Kettle Tortilla ChpsFeta&Garlic 150g      150.0    Kettle"
      ]
     },
     "execution_count": 34,
     "metadata": {},
     "output_type": "execute_result"
    }
   ],
   "source": [
    "import re\n",
    "\n",
    "# Création de nouvelles features à partir des données existantes\n",
    "\n",
    "# Extraire la taille du paquet (pack size) à partir du nom du produit si ce n'est pas déjà fait\n",
    "\n",
    "def extract_pack_size(prod_name):\n",
    "    match = re.search(r'(\\d+)(g|G)', prod_name)\n",
    "    if match:\n",
    "        return float(match.group(1))\n",
    "    return None\n",
    "\n",
    "if 'PACK_SIZE' not in df.columns or df['PACK_SIZE'].isnull().any():\n",
    "    df['PACK_SIZE'] = df['PROD_NAME'].apply(extract_pack_size)\n",
    "\n",
    "# Extraire le nom de la marque à partir du nom du produit si ce n'est pas déjà fait\n",
    "def extract_brand(prod_name):\n",
    "    return prod_name.split()[0] if isinstance(prod_name, str) else None\n",
    "\n",
    "if 'BRAND' not in df.columns or df['BRAND'].isnull().any():\n",
    "    df['BRAND'] = df['PROD_NAME'].apply(extract_brand)\n",
    "\n",
    "# Afficher les premières lignes pour vérifier\n",
    "df[['PROD_NAME', 'PACK_SIZE', 'BRAND']].head()"
   ]
  },
  {
   "cell_type": "markdown",
   "id": "bad1798b",
   "metadata": {},
   "source": [
    "# 1. Dépense totale par client\n",
    "Calcul de la dépense totale pour chaque client (`LYLTY_CARD_NBR`)."
   ]
  },
  {
   "cell_type": "code",
   "execution_count": 35,
   "id": "cc9c5639",
   "metadata": {},
   "outputs": [
    {
     "data": {
      "application/vnd.microsoft.datawrangler.viewer.v0+json": {
       "columns": [
        {
         "name": "index",
         "rawType": "int64",
         "type": "integer"
        },
        {
         "name": "LYLTY_CARD_NBR",
         "rawType": "int64",
         "type": "integer"
        },
        {
         "name": "DEPENSE_TOTALE",
         "rawType": "float64",
         "type": "float"
        }
       ],
       "ref": "8cd5e45e-cd3a-432d-8eb3-3d8b9d223800",
       "rows": [
        [
         "0",
         "1000",
         "6.0"
        ],
        [
         "1",
         "1010",
         "8.8"
        ],
        [
         "2",
         "1011",
         "6.2"
        ],
        [
         "3",
         "1013",
         "4.2"
        ],
        [
         "4",
         "1025",
         "6.0"
        ]
       ],
       "shape": {
        "columns": 2,
        "rows": 5
       }
      },
      "text/html": [
       "<div>\n",
       "<style scoped>\n",
       "    .dataframe tbody tr th:only-of-type {\n",
       "        vertical-align: middle;\n",
       "    }\n",
       "\n",
       "    .dataframe tbody tr th {\n",
       "        vertical-align: top;\n",
       "    }\n",
       "\n",
       "    .dataframe thead th {\n",
       "        text-align: right;\n",
       "    }\n",
       "</style>\n",
       "<table border=\"1\" class=\"dataframe\">\n",
       "  <thead>\n",
       "    <tr style=\"text-align: right;\">\n",
       "      <th></th>\n",
       "      <th>LYLTY_CARD_NBR</th>\n",
       "      <th>DEPENSE_TOTALE</th>\n",
       "    </tr>\n",
       "  </thead>\n",
       "  <tbody>\n",
       "    <tr>\n",
       "      <th>0</th>\n",
       "      <td>1000</td>\n",
       "      <td>6.0</td>\n",
       "    </tr>\n",
       "    <tr>\n",
       "      <th>1</th>\n",
       "      <td>1010</td>\n",
       "      <td>8.8</td>\n",
       "    </tr>\n",
       "    <tr>\n",
       "      <th>2</th>\n",
       "      <td>1011</td>\n",
       "      <td>6.2</td>\n",
       "    </tr>\n",
       "    <tr>\n",
       "      <th>3</th>\n",
       "      <td>1013</td>\n",
       "      <td>4.2</td>\n",
       "    </tr>\n",
       "    <tr>\n",
       "      <th>4</th>\n",
       "      <td>1025</td>\n",
       "      <td>6.0</td>\n",
       "    </tr>\n",
       "  </tbody>\n",
       "</table>\n",
       "</div>"
      ],
      "text/plain": [
       "   LYLTY_CARD_NBR  DEPENSE_TOTALE\n",
       "0            1000             6.0\n",
       "1            1010             8.8\n",
       "2            1011             6.2\n",
       "3            1013             4.2\n",
       "4            1025             6.0"
      ]
     },
     "execution_count": 35,
     "metadata": {},
     "output_type": "execute_result"
    }
   ],
   "source": [
    "depense_totale_client = df.groupby('LYLTY_CARD_NBR')['TOT_SALES'].sum().reset_index()\n",
    "depense_totale_client.rename(columns={'TOT_SALES': 'DEPENSE_TOTALE'}, inplace=True)\n",
    "depense_totale_client.head()"
   ]
  },
  {
   "cell_type": "markdown",
   "id": "f81f1f8d",
   "metadata": {},
   "source": [
    "# 2. Nombre total de transactions par client\n",
    "Nombre de transactions réalisées par chaque client."
   ]
  },
  {
   "cell_type": "code",
   "execution_count": 36,
   "id": "f2f2c2bd",
   "metadata": {},
   "outputs": [
    {
     "data": {
      "application/vnd.microsoft.datawrangler.viewer.v0+json": {
       "columns": [
        {
         "name": "index",
         "rawType": "int64",
         "type": "integer"
        },
        {
         "name": "LYLTY_CARD_NBR",
         "rawType": "int64",
         "type": "integer"
        },
        {
         "name": "NB_TRANSACTIONS",
         "rawType": "int64",
         "type": "integer"
        }
       ],
       "ref": "883c6954-324e-4390-81dc-43f952b3917e",
       "rows": [
        [
         "0",
         "1000",
         "1"
        ],
        [
         "1",
         "1010",
         "1"
        ],
        [
         "2",
         "1011",
         "1"
        ],
        [
         "3",
         "1013",
         "1"
        ],
        [
         "4",
         "1025",
         "1"
        ]
       ],
       "shape": {
        "columns": 2,
        "rows": 5
       }
      },
      "text/html": [
       "<div>\n",
       "<style scoped>\n",
       "    .dataframe tbody tr th:only-of-type {\n",
       "        vertical-align: middle;\n",
       "    }\n",
       "\n",
       "    .dataframe tbody tr th {\n",
       "        vertical-align: top;\n",
       "    }\n",
       "\n",
       "    .dataframe thead th {\n",
       "        text-align: right;\n",
       "    }\n",
       "</style>\n",
       "<table border=\"1\" class=\"dataframe\">\n",
       "  <thead>\n",
       "    <tr style=\"text-align: right;\">\n",
       "      <th></th>\n",
       "      <th>LYLTY_CARD_NBR</th>\n",
       "      <th>NB_TRANSACTIONS</th>\n",
       "    </tr>\n",
       "  </thead>\n",
       "  <tbody>\n",
       "    <tr>\n",
       "      <th>0</th>\n",
       "      <td>1000</td>\n",
       "      <td>1</td>\n",
       "    </tr>\n",
       "    <tr>\n",
       "      <th>1</th>\n",
       "      <td>1010</td>\n",
       "      <td>1</td>\n",
       "    </tr>\n",
       "    <tr>\n",
       "      <th>2</th>\n",
       "      <td>1011</td>\n",
       "      <td>1</td>\n",
       "    </tr>\n",
       "    <tr>\n",
       "      <th>3</th>\n",
       "      <td>1013</td>\n",
       "      <td>1</td>\n",
       "    </tr>\n",
       "    <tr>\n",
       "      <th>4</th>\n",
       "      <td>1025</td>\n",
       "      <td>1</td>\n",
       "    </tr>\n",
       "  </tbody>\n",
       "</table>\n",
       "</div>"
      ],
      "text/plain": [
       "   LYLTY_CARD_NBR  NB_TRANSACTIONS\n",
       "0            1000                1\n",
       "1            1010                1\n",
       "2            1011                1\n",
       "3            1013                1\n",
       "4            1025                1"
      ]
     },
     "execution_count": 36,
     "metadata": {},
     "output_type": "execute_result"
    }
   ],
   "source": [
    "transactions_par_client = df.groupby('LYLTY_CARD_NBR')['TXN_ID'].nunique().reset_index()\n",
    "transactions_par_client.rename(columns={'TXN_ID': 'NB_TRANSACTIONS'}, inplace=True)\n",
    "transactions_par_client.head()"
   ]
  },
  {
   "cell_type": "markdown",
   "id": "24c084f3",
   "metadata": {},
   "source": [
    "# 3. Dépense moyenne par transaction\n",
    "Calcul de la dépense moyenne par transaction pour chaque client."
   ]
  },
  {
   "cell_type": "code",
   "execution_count": 37,
   "id": "d1fa49c9",
   "metadata": {},
   "outputs": [
    {
     "data": {
      "application/vnd.microsoft.datawrangler.viewer.v0+json": {
       "columns": [
        {
         "name": "index",
         "rawType": "int64",
         "type": "integer"
        },
        {
         "name": "LYLTY_CARD_NBR",
         "rawType": "int64",
         "type": "integer"
        },
        {
         "name": "DEPENSE_MOYENNE_PAR_TRANSACTION",
         "rawType": "float64",
         "type": "float"
        }
       ],
       "ref": "1f58de17-89ff-42fd-949d-d6003b8ba585",
       "rows": [
        [
         "0",
         "1000",
         "6.0"
        ],
        [
         "1",
         "1010",
         "8.8"
        ],
        [
         "2",
         "1011",
         "6.2"
        ],
        [
         "3",
         "1013",
         "4.2"
        ],
        [
         "4",
         "1025",
         "6.0"
        ]
       ],
       "shape": {
        "columns": 2,
        "rows": 5
       }
      },
      "text/html": [
       "<div>\n",
       "<style scoped>\n",
       "    .dataframe tbody tr th:only-of-type {\n",
       "        vertical-align: middle;\n",
       "    }\n",
       "\n",
       "    .dataframe tbody tr th {\n",
       "        vertical-align: top;\n",
       "    }\n",
       "\n",
       "    .dataframe thead th {\n",
       "        text-align: right;\n",
       "    }\n",
       "</style>\n",
       "<table border=\"1\" class=\"dataframe\">\n",
       "  <thead>\n",
       "    <tr style=\"text-align: right;\">\n",
       "      <th></th>\n",
       "      <th>LYLTY_CARD_NBR</th>\n",
       "      <th>DEPENSE_MOYENNE_PAR_TRANSACTION</th>\n",
       "    </tr>\n",
       "  </thead>\n",
       "  <tbody>\n",
       "    <tr>\n",
       "      <th>0</th>\n",
       "      <td>1000</td>\n",
       "      <td>6.0</td>\n",
       "    </tr>\n",
       "    <tr>\n",
       "      <th>1</th>\n",
       "      <td>1010</td>\n",
       "      <td>8.8</td>\n",
       "    </tr>\n",
       "    <tr>\n",
       "      <th>2</th>\n",
       "      <td>1011</td>\n",
       "      <td>6.2</td>\n",
       "    </tr>\n",
       "    <tr>\n",
       "      <th>3</th>\n",
       "      <td>1013</td>\n",
       "      <td>4.2</td>\n",
       "    </tr>\n",
       "    <tr>\n",
       "      <th>4</th>\n",
       "      <td>1025</td>\n",
       "      <td>6.0</td>\n",
       "    </tr>\n",
       "  </tbody>\n",
       "</table>\n",
       "</div>"
      ],
      "text/plain": [
       "   LYLTY_CARD_NBR  DEPENSE_MOYENNE_PAR_TRANSACTION\n",
       "0            1000                              6.0\n",
       "1            1010                              8.8\n",
       "2            1011                              6.2\n",
       "3            1013                              4.2\n",
       "4            1025                              6.0"
      ]
     },
     "execution_count": 37,
     "metadata": {},
     "output_type": "execute_result"
    }
   ],
   "source": [
    "depense_moyenne_transaction = depense_totale_client.merge(transactions_par_client, on='LYLTY_CARD_NBR')\n",
    "depense_moyenne_transaction['DEPENSE_MOYENNE_PAR_TRANSACTION'] = depense_moyenne_transaction['DEPENSE_TOTALE'] / depense_moyenne_transaction['NB_TRANSACTIONS']\n",
    "depense_moyenne_transaction[['LYLTY_CARD_NBR', 'DEPENSE_MOYENNE_PAR_TRANSACTION']].head()"
   ]
  },
  {
   "cell_type": "markdown",
   "id": "a41b20a9",
   "metadata": {},
   "source": [
    "# 4. Quantité totale achetée par client\n",
    "Somme des quantités achetées par chaque client."
   ]
  },
  {
   "cell_type": "code",
   "execution_count": 38,
   "id": "062a37e7",
   "metadata": {},
   "outputs": [
    {
     "data": {
      "application/vnd.microsoft.datawrangler.viewer.v0+json": {
       "columns": [
        {
         "name": "index",
         "rawType": "int64",
         "type": "integer"
        },
        {
         "name": "LYLTY_CARD_NBR",
         "rawType": "int64",
         "type": "integer"
        },
        {
         "name": "QTE_TOTALE",
         "rawType": "int64",
         "type": "integer"
        }
       ],
       "ref": "4151ca7b-c836-4184-a443-d79670d5d15a",
       "rows": [
        [
         "0",
         "1000",
         "2"
        ],
        [
         "1",
         "1010",
         "2"
        ],
        [
         "2",
         "1011",
         "2"
        ],
        [
         "3",
         "1013",
         "2"
        ],
        [
         "4",
         "1025",
         "2"
        ]
       ],
       "shape": {
        "columns": 2,
        "rows": 5
       }
      },
      "text/html": [
       "<div>\n",
       "<style scoped>\n",
       "    .dataframe tbody tr th:only-of-type {\n",
       "        vertical-align: middle;\n",
       "    }\n",
       "\n",
       "    .dataframe tbody tr th {\n",
       "        vertical-align: top;\n",
       "    }\n",
       "\n",
       "    .dataframe thead th {\n",
       "        text-align: right;\n",
       "    }\n",
       "</style>\n",
       "<table border=\"1\" class=\"dataframe\">\n",
       "  <thead>\n",
       "    <tr style=\"text-align: right;\">\n",
       "      <th></th>\n",
       "      <th>LYLTY_CARD_NBR</th>\n",
       "      <th>QTE_TOTALE</th>\n",
       "    </tr>\n",
       "  </thead>\n",
       "  <tbody>\n",
       "    <tr>\n",
       "      <th>0</th>\n",
       "      <td>1000</td>\n",
       "      <td>2</td>\n",
       "    </tr>\n",
       "    <tr>\n",
       "      <th>1</th>\n",
       "      <td>1010</td>\n",
       "      <td>2</td>\n",
       "    </tr>\n",
       "    <tr>\n",
       "      <th>2</th>\n",
       "      <td>1011</td>\n",
       "      <td>2</td>\n",
       "    </tr>\n",
       "    <tr>\n",
       "      <th>3</th>\n",
       "      <td>1013</td>\n",
       "      <td>2</td>\n",
       "    </tr>\n",
       "    <tr>\n",
       "      <th>4</th>\n",
       "      <td>1025</td>\n",
       "      <td>2</td>\n",
       "    </tr>\n",
       "  </tbody>\n",
       "</table>\n",
       "</div>"
      ],
      "text/plain": [
       "   LYLTY_CARD_NBR  QTE_TOTALE\n",
       "0            1000           2\n",
       "1            1010           2\n",
       "2            1011           2\n",
       "3            1013           2\n",
       "4            1025           2"
      ]
     },
     "execution_count": 38,
     "metadata": {},
     "output_type": "execute_result"
    }
   ],
   "source": [
    "quantite_totale_client = df.groupby('LYLTY_CARD_NBR')['PROD_QTY'].sum().reset_index()\n",
    "quantite_totale_client.rename(columns={'PROD_QTY': 'QTE_TOTALE'}, inplace=True)\n",
    "quantite_totale_client.head()"
   ]
  },
  {
   "cell_type": "markdown",
   "id": "60f65aaa",
   "metadata": {},
   "source": [
    "# 5. Taille moyenne des paquets achetés\n",
    "Taille moyenne des paquets achetés par client."
   ]
  },
  {
   "cell_type": "code",
   "execution_count": 39,
   "id": "51a5219c",
   "metadata": {},
   "outputs": [
    {
     "data": {
      "application/vnd.microsoft.datawrangler.viewer.v0+json": {
       "columns": [
        {
         "name": "index",
         "rawType": "int64",
         "type": "integer"
        },
        {
         "name": "LYLTY_CARD_NBR",
         "rawType": "int64",
         "type": "integer"
        },
        {
         "name": "TAILLE_MOYENNE_PAQUET",
         "rawType": "float64",
         "type": "float"
        }
       ],
       "ref": "0edc09ff-6432-44da-8947-1fc8aa8ccd4d",
       "rows": [
        [
         "0",
         "1000",
         "175.0"
        ],
        [
         "1",
         "1010",
         "170.0"
        ],
        [
         "2",
         "1011",
         "180.0"
        ],
        [
         "3",
         "1013",
         "175.0"
        ],
        [
         "4",
         "1025",
         "175.0"
        ]
       ],
       "shape": {
        "columns": 2,
        "rows": 5
       }
      },
      "text/html": [
       "<div>\n",
       "<style scoped>\n",
       "    .dataframe tbody tr th:only-of-type {\n",
       "        vertical-align: middle;\n",
       "    }\n",
       "\n",
       "    .dataframe tbody tr th {\n",
       "        vertical-align: top;\n",
       "    }\n",
       "\n",
       "    .dataframe thead th {\n",
       "        text-align: right;\n",
       "    }\n",
       "</style>\n",
       "<table border=\"1\" class=\"dataframe\">\n",
       "  <thead>\n",
       "    <tr style=\"text-align: right;\">\n",
       "      <th></th>\n",
       "      <th>LYLTY_CARD_NBR</th>\n",
       "      <th>TAILLE_MOYENNE_PAQUET</th>\n",
       "    </tr>\n",
       "  </thead>\n",
       "  <tbody>\n",
       "    <tr>\n",
       "      <th>0</th>\n",
       "      <td>1000</td>\n",
       "      <td>175.0</td>\n",
       "    </tr>\n",
       "    <tr>\n",
       "      <th>1</th>\n",
       "      <td>1010</td>\n",
       "      <td>170.0</td>\n",
       "    </tr>\n",
       "    <tr>\n",
       "      <th>2</th>\n",
       "      <td>1011</td>\n",
       "      <td>180.0</td>\n",
       "    </tr>\n",
       "    <tr>\n",
       "      <th>3</th>\n",
       "      <td>1013</td>\n",
       "      <td>175.0</td>\n",
       "    </tr>\n",
       "    <tr>\n",
       "      <th>4</th>\n",
       "      <td>1025</td>\n",
       "      <td>175.0</td>\n",
       "    </tr>\n",
       "  </tbody>\n",
       "</table>\n",
       "</div>"
      ],
      "text/plain": [
       "   LYLTY_CARD_NBR  TAILLE_MOYENNE_PAQUET\n",
       "0            1000                  175.0\n",
       "1            1010                  170.0\n",
       "2            1011                  180.0\n",
       "3            1013                  175.0\n",
       "4            1025                  175.0"
      ]
     },
     "execution_count": 39,
     "metadata": {},
     "output_type": "execute_result"
    }
   ],
   "source": [
    "taille_moyenne_paquet = df.groupby('LYLTY_CARD_NBR')['PACK_SIZE'].mean().reset_index()\n",
    "taille_moyenne_paquet.rename(columns={'PACK_SIZE': 'TAILLE_MOYENNE_PAQUET'}, inplace=True)\n",
    "taille_moyenne_paquet.head()"
   ]
  },
  {
   "cell_type": "markdown",
   "id": "777f7141",
   "metadata": {},
   "source": [
    "# 6. Marque préférée par client\n",
    "Marque la plus achetée par chaque client."
   ]
  },
  {
   "cell_type": "code",
   "execution_count": 40,
   "id": "9a4d6cb9",
   "metadata": {},
   "outputs": [
    {
     "data": {
      "application/vnd.microsoft.datawrangler.viewer.v0+json": {
       "columns": [
        {
         "name": "index",
         "rawType": "int64",
         "type": "integer"
        },
        {
         "name": "LYLTY_CARD_NBR",
         "rawType": "int64",
         "type": "integer"
        },
        {
         "name": "BRAND",
         "rawType": "object",
         "type": "string"
        }
       ],
       "ref": "53b5ab6e-a89b-4574-bd9b-3f02e1be8710",
       "rows": [
        [
         "0",
         "1000",
         "Natural"
        ],
        [
         "1",
         "1010",
         "Doritos"
        ],
        [
         "2",
         "1011",
         "GrnWves"
        ],
        [
         "3",
         "1013",
         "CCs"
        ],
        [
         "4",
         "1025",
         "Smiths"
        ]
       ],
       "shape": {
        "columns": 2,
        "rows": 5
       }
      },
      "text/html": [
       "<div>\n",
       "<style scoped>\n",
       "    .dataframe tbody tr th:only-of-type {\n",
       "        vertical-align: middle;\n",
       "    }\n",
       "\n",
       "    .dataframe tbody tr th {\n",
       "        vertical-align: top;\n",
       "    }\n",
       "\n",
       "    .dataframe thead th {\n",
       "        text-align: right;\n",
       "    }\n",
       "</style>\n",
       "<table border=\"1\" class=\"dataframe\">\n",
       "  <thead>\n",
       "    <tr style=\"text-align: right;\">\n",
       "      <th></th>\n",
       "      <th>LYLTY_CARD_NBR</th>\n",
       "      <th>BRAND</th>\n",
       "    </tr>\n",
       "  </thead>\n",
       "  <tbody>\n",
       "    <tr>\n",
       "      <th>0</th>\n",
       "      <td>1000</td>\n",
       "      <td>Natural</td>\n",
       "    </tr>\n",
       "    <tr>\n",
       "      <th>1</th>\n",
       "      <td>1010</td>\n",
       "      <td>Doritos</td>\n",
       "    </tr>\n",
       "    <tr>\n",
       "      <th>2</th>\n",
       "      <td>1011</td>\n",
       "      <td>GrnWves</td>\n",
       "    </tr>\n",
       "    <tr>\n",
       "      <th>3</th>\n",
       "      <td>1013</td>\n",
       "      <td>CCs</td>\n",
       "    </tr>\n",
       "    <tr>\n",
       "      <th>4</th>\n",
       "      <td>1025</td>\n",
       "      <td>Smiths</td>\n",
       "    </tr>\n",
       "  </tbody>\n",
       "</table>\n",
       "</div>"
      ],
      "text/plain": [
       "   LYLTY_CARD_NBR    BRAND\n",
       "0            1000  Natural\n",
       "1            1010  Doritos\n",
       "2            1011  GrnWves\n",
       "3            1013      CCs\n",
       "4            1025   Smiths"
      ]
     },
     "execution_count": 40,
     "metadata": {},
     "output_type": "execute_result"
    }
   ],
   "source": [
    "marque_preferee = df.groupby(['LYLTY_CARD_NBR', 'BRAND'])['PROD_QTY'].sum().reset_index()\n",
    "marque_preferee = marque_preferee.loc[marque_preferee.groupby('LYLTY_CARD_NBR')['PROD_QTY'].idxmax()]\n",
    "marque_preferee = marque_preferee[['LYLTY_CARD_NBR', 'BRAND']]\n",
    "marque_preferee.head()"
   ]
  },
  {
   "cell_type": "markdown",
   "id": "9b40987f",
   "metadata": {},
   "source": [
    "# 7. Fréquence d'achat (nombre moyen de jours entre les achats)\n",
    "Calcul du nombre moyen de jours entre les achats pour chaque client."
   ]
  },
  {
   "cell_type": "code",
   "execution_count": 41,
   "id": "1101a00b",
   "metadata": {},
   "outputs": [
    {
     "data": {
      "application/vnd.microsoft.datawrangler.viewer.v0+json": {
       "columns": [
        {
         "name": "index",
         "rawType": "int64",
         "type": "integer"
        },
        {
         "name": "LYLTY_CARD_NBR",
         "rawType": "int64",
         "type": "integer"
        },
        {
         "name": "FREQUENCE_ACHAT_JOURS",
         "rawType": "float64",
         "type": "float"
        }
       ],
       "ref": "7b376cce-3d6a-4a2c-8b50-d4dbcd81f481",
       "rows": [
        [
         "0",
         "1000",
         null
        ],
        [
         "1",
         "1010",
         null
        ],
        [
         "2",
         "1011",
         null
        ],
        [
         "3",
         "1013",
         null
        ],
        [
         "4",
         "1025",
         null
        ]
       ],
       "shape": {
        "columns": 2,
        "rows": 5
       }
      },
      "text/html": [
       "<div>\n",
       "<style scoped>\n",
       "    .dataframe tbody tr th:only-of-type {\n",
       "        vertical-align: middle;\n",
       "    }\n",
       "\n",
       "    .dataframe tbody tr th {\n",
       "        vertical-align: top;\n",
       "    }\n",
       "\n",
       "    .dataframe thead th {\n",
       "        text-align: right;\n",
       "    }\n",
       "</style>\n",
       "<table border=\"1\" class=\"dataframe\">\n",
       "  <thead>\n",
       "    <tr style=\"text-align: right;\">\n",
       "      <th></th>\n",
       "      <th>LYLTY_CARD_NBR</th>\n",
       "      <th>FREQUENCE_ACHAT_JOURS</th>\n",
       "    </tr>\n",
       "  </thead>\n",
       "  <tbody>\n",
       "    <tr>\n",
       "      <th>0</th>\n",
       "      <td>1000</td>\n",
       "      <td>NaN</td>\n",
       "    </tr>\n",
       "    <tr>\n",
       "      <th>1</th>\n",
       "      <td>1010</td>\n",
       "      <td>NaN</td>\n",
       "    </tr>\n",
       "    <tr>\n",
       "      <th>2</th>\n",
       "      <td>1011</td>\n",
       "      <td>NaN</td>\n",
       "    </tr>\n",
       "    <tr>\n",
       "      <th>3</th>\n",
       "      <td>1013</td>\n",
       "      <td>NaN</td>\n",
       "    </tr>\n",
       "    <tr>\n",
       "      <th>4</th>\n",
       "      <td>1025</td>\n",
       "      <td>NaN</td>\n",
       "    </tr>\n",
       "  </tbody>\n",
       "</table>\n",
       "</div>"
      ],
      "text/plain": [
       "   LYLTY_CARD_NBR  FREQUENCE_ACHAT_JOURS\n",
       "0            1000                    NaN\n",
       "1            1010                    NaN\n",
       "2            1011                    NaN\n",
       "3            1013                    NaN\n",
       "4            1025                    NaN"
      ]
     },
     "execution_count": 41,
     "metadata": {},
     "output_type": "execute_result"
    }
   ],
   "source": [
    "df_sorted = df.sort_values(['LYLTY_CARD_NBR', 'DATE'])\n",
    "frequence_achat = df_sorted.groupby('LYLTY_CARD_NBR')['DATE'].apply(lambda x: x.diff().dt.days.mean()).reset_index()\n",
    "frequence_achat.rename(columns={'DATE': 'FREQUENCE_ACHAT_JOURS'}, inplace=True)\n",
    "frequence_achat.head()"
   ]
  },
  {
   "cell_type": "markdown",
   "id": "347f1f9d",
   "metadata": {},
   "source": [
    "# 8. Dépense totale par segment (LIFESTAGE, PREMIUM_CUSTOMER)\n",
    "Somme des dépenses pour chaque segment."
   ]
  },
  {
   "cell_type": "code",
   "execution_count": 42,
   "id": "12e2e80c",
   "metadata": {},
   "outputs": [
    {
     "data": {
      "application/vnd.microsoft.datawrangler.viewer.v0+json": {
       "columns": [
        {
         "name": "index",
         "rawType": "int64",
         "type": "integer"
        },
        {
         "name": "LIFESTAGE",
         "rawType": "object",
         "type": "string"
        },
        {
         "name": "PREMIUM_CUSTOMER",
         "rawType": "object",
         "type": "string"
        },
        {
         "name": "DEPENSE_TOTALE",
         "rawType": "float64",
         "type": "float"
        }
       ],
       "ref": "405b419a-c974-44f2-bee3-d89b374e7aa2",
       "rows": [
        [
         "0",
         "MIDAGE SINGLES/COUPLES",
         "Budget",
         "33073.9"
        ],
        [
         "1",
         "MIDAGE SINGLES/COUPLES",
         "Mainstream",
         "85259.3"
        ],
        [
         "2",
         "MIDAGE SINGLES/COUPLES",
         "Premium",
         "54343.6"
        ],
        [
         "3",
         "NEW FAMILIES",
         "Budget",
         "20113.4"
        ],
        [
         "4",
         "NEW FAMILIES",
         "Mainstream",
         "15660.7"
        ]
       ],
       "shape": {
        "columns": 3,
        "rows": 5
       }
      },
      "text/html": [
       "<div>\n",
       "<style scoped>\n",
       "    .dataframe tbody tr th:only-of-type {\n",
       "        vertical-align: middle;\n",
       "    }\n",
       "\n",
       "    .dataframe tbody tr th {\n",
       "        vertical-align: top;\n",
       "    }\n",
       "\n",
       "    .dataframe thead th {\n",
       "        text-align: right;\n",
       "    }\n",
       "</style>\n",
       "<table border=\"1\" class=\"dataframe\">\n",
       "  <thead>\n",
       "    <tr style=\"text-align: right;\">\n",
       "      <th></th>\n",
       "      <th>LIFESTAGE</th>\n",
       "      <th>PREMIUM_CUSTOMER</th>\n",
       "      <th>DEPENSE_TOTALE</th>\n",
       "    </tr>\n",
       "  </thead>\n",
       "  <tbody>\n",
       "    <tr>\n",
       "      <th>0</th>\n",
       "      <td>MIDAGE SINGLES/COUPLES</td>\n",
       "      <td>Budget</td>\n",
       "      <td>33073.9</td>\n",
       "    </tr>\n",
       "    <tr>\n",
       "      <th>1</th>\n",
       "      <td>MIDAGE SINGLES/COUPLES</td>\n",
       "      <td>Mainstream</td>\n",
       "      <td>85259.3</td>\n",
       "    </tr>\n",
       "    <tr>\n",
       "      <th>2</th>\n",
       "      <td>MIDAGE SINGLES/COUPLES</td>\n",
       "      <td>Premium</td>\n",
       "      <td>54343.6</td>\n",
       "    </tr>\n",
       "    <tr>\n",
       "      <th>3</th>\n",
       "      <td>NEW FAMILIES</td>\n",
       "      <td>Budget</td>\n",
       "      <td>20113.4</td>\n",
       "    </tr>\n",
       "    <tr>\n",
       "      <th>4</th>\n",
       "      <td>NEW FAMILIES</td>\n",
       "      <td>Mainstream</td>\n",
       "      <td>15660.7</td>\n",
       "    </tr>\n",
       "  </tbody>\n",
       "</table>\n",
       "</div>"
      ],
      "text/plain": [
       "                LIFESTAGE PREMIUM_CUSTOMER  DEPENSE_TOTALE\n",
       "0  MIDAGE SINGLES/COUPLES           Budget         33073.9\n",
       "1  MIDAGE SINGLES/COUPLES       Mainstream         85259.3\n",
       "2  MIDAGE SINGLES/COUPLES          Premium         54343.6\n",
       "3            NEW FAMILIES           Budget         20113.4\n",
       "4            NEW FAMILIES       Mainstream         15660.7"
      ]
     },
     "execution_count": 42,
     "metadata": {},
     "output_type": "execute_result"
    }
   ],
   "source": [
    "depense_par_segment = df.groupby(['LIFESTAGE', 'PREMIUM_CUSTOMER'])['TOT_SALES'].sum().reset_index()\n",
    "depense_par_segment.rename(columns={'TOT_SALES': 'DEPENSE_TOTALE'}, inplace=True)\n",
    "depense_par_segment.head()"
   ]
  },
  {
   "cell_type": "markdown",
   "id": "d8bf02ab",
   "metadata": {},
   "source": [
    "# 9. Dépense moyenne par segment\n",
    "Dépense moyenne par transaction pour chaque segment."
   ]
  },
  {
   "cell_type": "code",
   "execution_count": 43,
   "id": "84837a91",
   "metadata": {},
   "outputs": [
    {
     "data": {
      "application/vnd.microsoft.datawrangler.viewer.v0+json": {
       "columns": [
        {
         "name": "index",
         "rawType": "int64",
         "type": "integer"
        },
        {
         "name": "LIFESTAGE",
         "rawType": "object",
         "type": "string"
        },
        {
         "name": "PREMIUM_CUSTOMER",
         "rawType": "object",
         "type": "string"
        },
        {
         "name": "DEPENSE_MOYENNE",
         "rawType": "float64",
         "type": "float"
        }
       ],
       "ref": "242a2723-b831-4484-a8a1-953a95633d10",
       "rows": [
        [
         "0",
         "MIDAGE SINGLES/COUPLES",
         "Budget",
         "7.515087480118155"
        ],
        [
         "1",
         "MIDAGE SINGLES/COUPLES",
         "Mainstream",
         "7.998058161350844"
        ],
        [
         "2",
         "MIDAGE SINGLES/COUPLES",
         "Premium",
         "7.555067426664813"
        ],
        [
         "3",
         "NEW FAMILIES",
         "Budget",
         "7.915545060999607"
        ],
        [
         "4",
         "NEW FAMILIES",
         "Mainstream",
         "7.933485309017224"
        ]
       ],
       "shape": {
        "columns": 3,
        "rows": 5
       }
      },
      "text/html": [
       "<div>\n",
       "<style scoped>\n",
       "    .dataframe tbody tr th:only-of-type {\n",
       "        vertical-align: middle;\n",
       "    }\n",
       "\n",
       "    .dataframe tbody tr th {\n",
       "        vertical-align: top;\n",
       "    }\n",
       "\n",
       "    .dataframe thead th {\n",
       "        text-align: right;\n",
       "    }\n",
       "</style>\n",
       "<table border=\"1\" class=\"dataframe\">\n",
       "  <thead>\n",
       "    <tr style=\"text-align: right;\">\n",
       "      <th></th>\n",
       "      <th>LIFESTAGE</th>\n",
       "      <th>PREMIUM_CUSTOMER</th>\n",
       "      <th>DEPENSE_MOYENNE</th>\n",
       "    </tr>\n",
       "  </thead>\n",
       "  <tbody>\n",
       "    <tr>\n",
       "      <th>0</th>\n",
       "      <td>MIDAGE SINGLES/COUPLES</td>\n",
       "      <td>Budget</td>\n",
       "      <td>7.515087</td>\n",
       "    </tr>\n",
       "    <tr>\n",
       "      <th>1</th>\n",
       "      <td>MIDAGE SINGLES/COUPLES</td>\n",
       "      <td>Mainstream</td>\n",
       "      <td>7.998058</td>\n",
       "    </tr>\n",
       "    <tr>\n",
       "      <th>2</th>\n",
       "      <td>MIDAGE SINGLES/COUPLES</td>\n",
       "      <td>Premium</td>\n",
       "      <td>7.555067</td>\n",
       "    </tr>\n",
       "    <tr>\n",
       "      <th>3</th>\n",
       "      <td>NEW FAMILIES</td>\n",
       "      <td>Budget</td>\n",
       "      <td>7.915545</td>\n",
       "    </tr>\n",
       "    <tr>\n",
       "      <th>4</th>\n",
       "      <td>NEW FAMILIES</td>\n",
       "      <td>Mainstream</td>\n",
       "      <td>7.933485</td>\n",
       "    </tr>\n",
       "  </tbody>\n",
       "</table>\n",
       "</div>"
      ],
      "text/plain": [
       "                LIFESTAGE PREMIUM_CUSTOMER  DEPENSE_MOYENNE\n",
       "0  MIDAGE SINGLES/COUPLES           Budget         7.515087\n",
       "1  MIDAGE SINGLES/COUPLES       Mainstream         7.998058\n",
       "2  MIDAGE SINGLES/COUPLES          Premium         7.555067\n",
       "3            NEW FAMILIES           Budget         7.915545\n",
       "4            NEW FAMILIES       Mainstream         7.933485"
      ]
     },
     "execution_count": 43,
     "metadata": {},
     "output_type": "execute_result"
    }
   ],
   "source": [
    "depense_moyenne_segment = df.groupby(['LIFESTAGE', 'PREMIUM_CUSTOMER'])['TOT_SALES'].mean().reset_index()\n",
    "depense_moyenne_segment.rename(columns={'TOT_SALES': 'DEPENSE_MOYENNE'}, inplace=True)\n",
    "depense_moyenne_segment.head()"
   ]
  },
  {
   "cell_type": "markdown",
   "id": "94672b62",
   "metadata": {},
   "source": [
    "# 10. Produit le plus acheté par segment\n",
    "Produit le plus acheté (en quantité) pour chaque segment."
   ]
  },
  {
   "cell_type": "code",
   "execution_count": 44,
   "id": "b8ff5a8f",
   "metadata": {},
   "outputs": [
    {
     "data": {
      "application/vnd.microsoft.datawrangler.viewer.v0+json": {
       "columns": [
        {
         "name": "index",
         "rawType": "int64",
         "type": "integer"
        },
        {
         "name": "LIFESTAGE",
         "rawType": "object",
         "type": "string"
        },
        {
         "name": "PREMIUM_CUSTOMER",
         "rawType": "object",
         "type": "string"
        },
        {
         "name": "PROD_NAME",
         "rawType": "object",
         "type": "string"
        },
        {
         "name": "PROD_QTY",
         "rawType": "int64",
         "type": "integer"
        }
       ],
       "ref": "ba092069-2ab4-4586-93e3-b499dd7059e0",
       "rows": [
        [
         "29",
         "MIDAGE SINGLES/COUPLES",
         "Budget",
         "Infzns Crn Crnchers Tangy Gcamole 110g",
         "136"
        ],
        [
         "191",
         "MIDAGE SINGLES/COUPLES",
         "Mainstream",
         "Smiths Crinkle Chips Salt & Vinegar 330g",
         "350"
        ],
        [
         "280",
         "MIDAGE SINGLES/COUPLES",
         "Premium",
         "Pringles Chicken    Salt Crips 134g",
         "210"
        ],
        [
         "352",
         "NEW FAMILIES",
         "Budget",
         "Cobs Popd Swt/Chlli &Sr/Cream Chips 110g",
         "86"
        ],
        [
         "470",
         "NEW FAMILIES",
         "Mainstream",
         "Doritos Corn Chip Southern Chicken 150g",
         "70"
        ]
       ],
       "shape": {
        "columns": 4,
        "rows": 5
       }
      },
      "text/html": [
       "<div>\n",
       "<style scoped>\n",
       "    .dataframe tbody tr th:only-of-type {\n",
       "        vertical-align: middle;\n",
       "    }\n",
       "\n",
       "    .dataframe tbody tr th {\n",
       "        vertical-align: top;\n",
       "    }\n",
       "\n",
       "    .dataframe thead th {\n",
       "        text-align: right;\n",
       "    }\n",
       "</style>\n",
       "<table border=\"1\" class=\"dataframe\">\n",
       "  <thead>\n",
       "    <tr style=\"text-align: right;\">\n",
       "      <th></th>\n",
       "      <th>LIFESTAGE</th>\n",
       "      <th>PREMIUM_CUSTOMER</th>\n",
       "      <th>PROD_NAME</th>\n",
       "      <th>PROD_QTY</th>\n",
       "    </tr>\n",
       "  </thead>\n",
       "  <tbody>\n",
       "    <tr>\n",
       "      <th>29</th>\n",
       "      <td>MIDAGE SINGLES/COUPLES</td>\n",
       "      <td>Budget</td>\n",
       "      <td>Infzns Crn Crnchers Tangy Gcamole 110g</td>\n",
       "      <td>136</td>\n",
       "    </tr>\n",
       "    <tr>\n",
       "      <th>191</th>\n",
       "      <td>MIDAGE SINGLES/COUPLES</td>\n",
       "      <td>Mainstream</td>\n",
       "      <td>Smiths Crinkle Chips Salt &amp; Vinegar 330g</td>\n",
       "      <td>350</td>\n",
       "    </tr>\n",
       "    <tr>\n",
       "      <th>280</th>\n",
       "      <td>MIDAGE SINGLES/COUPLES</td>\n",
       "      <td>Premium</td>\n",
       "      <td>Pringles Chicken    Salt Crips 134g</td>\n",
       "      <td>210</td>\n",
       "    </tr>\n",
       "    <tr>\n",
       "      <th>352</th>\n",
       "      <td>NEW FAMILIES</td>\n",
       "      <td>Budget</td>\n",
       "      <td>Cobs Popd Swt/Chlli &amp;Sr/Cream Chips 110g</td>\n",
       "      <td>86</td>\n",
       "    </tr>\n",
       "    <tr>\n",
       "      <th>470</th>\n",
       "      <td>NEW FAMILIES</td>\n",
       "      <td>Mainstream</td>\n",
       "      <td>Doritos Corn Chip Southern Chicken 150g</td>\n",
       "      <td>70</td>\n",
       "    </tr>\n",
       "  </tbody>\n",
       "</table>\n",
       "</div>"
      ],
      "text/plain": [
       "                  LIFESTAGE PREMIUM_CUSTOMER  \\\n",
       "29   MIDAGE SINGLES/COUPLES           Budget   \n",
       "191  MIDAGE SINGLES/COUPLES       Mainstream   \n",
       "280  MIDAGE SINGLES/COUPLES          Premium   \n",
       "352            NEW FAMILIES           Budget   \n",
       "470            NEW FAMILIES       Mainstream   \n",
       "\n",
       "                                    PROD_NAME  PROD_QTY  \n",
       "29     Infzns Crn Crnchers Tangy Gcamole 110g       136  \n",
       "191  Smiths Crinkle Chips Salt & Vinegar 330g       350  \n",
       "280       Pringles Chicken    Salt Crips 134g       210  \n",
       "352  Cobs Popd Swt/Chlli &Sr/Cream Chips 110g        86  \n",
       "470   Doritos Corn Chip Southern Chicken 150g        70  "
      ]
     },
     "execution_count": 44,
     "metadata": {},
     "output_type": "execute_result"
    }
   ],
   "source": [
    "produit_plus_achete = df.groupby(['LIFESTAGE', 'PREMIUM_CUSTOMER', 'PROD_NAME'])['PROD_QTY'].sum().reset_index()\n",
    "idx = produit_plus_achete.groupby(['LIFESTAGE', 'PREMIUM_CUSTOMER'])['PROD_QTY'].idxmax()\n",
    "produit_plus_achete = produit_plus_achete.loc[idx][['LIFESTAGE', 'PREMIUM_CUSTOMER', 'PROD_NAME', 'PROD_QTY']]\n",
    "produit_plus_achete.head()"
   ]
  },
  {
   "cell_type": "code",
   "execution_count": 45,
   "id": "6d9ae209",
   "metadata": {},
   "outputs": [
    {
     "name": "stdout",
     "output_type": "stream",
     "text": [
      "        DATE  NB_TRANSACTIONS\n",
      "0 2018-07-01              666\n",
      "1 2018-07-02              652\n",
      "2 2018-07-03              662\n",
      "3 2018-07-04              653\n",
      "4 2018-07-05              642\n"
     ]
    },
    {
     "data": {
      "image/png": "[encoded data removed]",
      "text/plain": [
       "<Figure size 1400x600 with 1 Axes>"
      ]
     },
     "metadata": {},
     "output_type": "display_data"
    }
   ],
   "source": [
    "# Analyse du nombre de transactions par jour\n",
    "\n",
    "transactions_quotidiennes = df.groupby('DATE')['TXN_ID'].nunique().reset_index()\n",
    "transactions_quotidiennes.rename(columns={'TXN_ID': 'NB_TRANSACTIONS'}, inplace=True)\n",
    "\n",
    "# Affichage des premières lignes\n",
    "print(transactions_quotidiennes.head())\n",
    "\n",
    "# Visualisation de l'évolution des transactions quotidiennes\n",
    "plt.figure(figsize=(14, 6))\n",
    "plt.plot(transactions_quotidiennes['DATE'], transactions_quotidiennes['NB_TRANSACTIONS'])\n",
    "plt.title(\"Nombre de transactions quotidiennes\")\n",
    "plt.xlabel(\"Date\")\n",
    "plt.ylabel(\"Nombre de transactions\")\n",
    "plt.tight_layout()\n",
    "plt.show()"
   ]
  },
  {
   "cell_type": "code",
   "execution_count": 47,
   "id": "84069ae2",
   "metadata": {},
   "outputs": [
    {
     "name": "stdout",
     "output_type": "stream",
     "text": [
      "Dépense totale par LIFESTAGE :\n",
      "                LIFESTAGE  DEPENSE_TOTALE\n",
      "0  MIDAGE SINGLES/COUPLES        172676.8\n",
      "1            NEW FAMILIES         46388.7\n",
      "2          OLDER FAMILIES        336604.1\n",
      "3   OLDER SINGLES/COUPLES        378759.8\n",
      "4                RETIREES        341387.3\n",
      "5          YOUNG FAMILIES        300693.2\n",
      "6   YOUNG SINGLES/COUPLES        234965.7\n",
      "\n",
      "Dépense moyenne par transaction par LIFESTAGE :\n",
      "                LIFESTAGE  DEPENSE_MOYENNE\n",
      "0  MIDAGE SINGLES/COUPLES         7.759360\n",
      "1            NEW FAMILIES         7.894605\n",
      "2          OLDER FAMILIES         7.457883\n",
      "3   OLDER SINGLES/COUPLES         7.735317\n",
      "4                RETIREES         7.803495\n",
      "5          YOUNG FAMILIES         7.484026\n",
      "6   YOUNG SINGLES/COUPLES         7.871811\n"
     ]
    },
    {
     "data": {
      "image/png": "[encoded data removed]",
      "text/plain": [
       "<Figure size 1200x500 with 2 Axes>"
      ]
     },
     "metadata": {},
     "output_type": "display_data"
    }
   ],
   "source": [
    "# Analyse de la dépense totale et moyenne par segment LIFESTAGE\n",
    "\n",
    "# Dépense totale par LIFESTAGE\n",
    "depense_totale_lifestage = df.groupby('LIFESTAGE')['TOT_SALES'].sum().reset_index()\n",
    "depense_totale_lifestage.rename(columns={'TOT_SALES': 'DEPENSE_TOTALE'}, inplace=True)\n",
    "print(\"Dépense totale par LIFESTAGE :\")\n",
    "print(depense_totale_lifestage)\n",
    "\n",
    "# Dépense moyenne par transaction pour chaque LIFESTAGE\n",
    "depense_moyenne_lifestage = df.groupby('LIFESTAGE')['TOT_SALES'].mean().reset_index()\n",
    "depense_moyenne_lifestage.rename(columns={'TOT_SALES': 'DEPENSE_MOYENNE'}, inplace=True)\n",
    "print(\"\\nDépense moyenne par transaction par LIFESTAGE :\")\n",
    "print(depense_moyenne_lifestage)\n",
    "\n",
    "# Visualisation\n",
    "plt.figure(figsize=(12, 5))\n",
    "plt.subplot(1, 2, 1)\n",
    "plt.bar(depense_totale_lifestage['LIFESTAGE'], depense_totale_lifestage['DEPENSE_TOTALE'])\n",
    "plt.title('Dépense totale par LIFESTAGE')\n",
    "plt.xticks(rotation=45, ha='right')\n",
    "plt.ylabel('Dépense totale')\n",
    "\n",
    "plt.subplot(1, 2, 2)\n",
    "plt.bar(depense_moyenne_lifestage['LIFESTAGE'], depense_moyenne_lifestage['DEPENSE_MOYENNE'])\n",
    "plt.title('Dépense moyenne par transaction par LIFESTAGE')\n",
    "plt.xticks(rotation=45, ha='right')\n",
    "plt.ylabel('Dépense moyenne')\n",
    "\n",
    "plt.tight_layout()\n",
    "plt.show()"
   ]
  },
  {
   "cell_type": "code",
   "execution_count": 48,
   "id": "2d001ee6",
   "metadata": {},
   "outputs": [
    {
     "name": "stdout",
     "output_type": "stream",
     "text": [
      "Nombre de clients par catégorie PREMIUM_CUSTOMER :\n",
      "Mainstream    90550\n",
      "Budget        83342\n",
      "Premium       62112\n",
      "Name: PREMIUM_CUSTOMER, dtype: int64\n"
     ]
    },
    {
     "data": {
      "image/png": "[encoded data removed]",
      "text/plain": [
       "<Figure size 600x400 with 1 Axes>"
      ]
     },
     "metadata": {},
     "output_type": "display_data"
    }
   ],
   "source": [
    "# Analyse de la répartition des clients selon le statut PREMIUM_CUSTOMER\n",
    "\n",
    "# Comptage du nombre de clients par catégorie PREMIUM_CUSTOMER\n",
    "premium_counts = df['PREMIUM_CUSTOMER'].value_counts()\n",
    "print(\"Nombre de clients par catégorie PREMIUM_CUSTOMER :\")\n",
    "print(premium_counts)\n",
    "\n",
    "# Visualisation de la répartition\n",
    "plt.figure(figsize=(6, 4))\n",
    "premium_counts.plot(kind='bar', color=['#4F81BD', '#C0504D', '#9BBB59'])\n",
    "plt.title(\"Répartition des clients selon PREMIUM_CUSTOMER\")\n",
    "plt.xlabel(\"Catégorie\")\n",
    "plt.ylabel(\"Nombre de transactions\")\n",
    "plt.xticks(rotation=0)\n",
    "plt.tight_layout()\n",
    "plt.show()"
   ]
  },
  {
   "cell_type": "markdown",
   "id": "7e30e40e",
   "metadata": {},
   "source": [
    "# 3. Analyse des segments clients\n",
    "\n",
    "Cette section analyse les segments clients définis par les variables **LIFESTAGE** et **PREMIUM_CUSTOMER**.\n",
    "\n",
    "**Indicateurs analysés :**\n",
    "- Total des ventes par segment\n",
    "- Nombre de clients par segment\n",
    "- Quantité moyenne de chips achetée par client\n",
    "- Prix moyen par unité par segment\n",
    "\n",
    "**Résultats principaux :**\n",
    "- Les ventes les plus élevées proviennent de :\n",
    "    - Budget – Older Families\n",
    "    - Mainstream – Young Singles/Couples\n",
    "    - Mainstream – Retirees\n",
    "- Les jeunes couples mainstream sont nombreux et dépensent plus par unité.\n",
    "- Le prix moyen par unité est significativement plus élevé pour les segments Mainstream jeunes et midage que pour Budget ou Premium, ce qui suggère des comportements d’achat impulsifs."
   ]
  },
  {
   "cell_type": "code",
   "execution_count": 49,
   "id": "3574c3cf",
   "metadata": {},
   "outputs": [
    {
     "data": {
      "application/vnd.microsoft.datawrangler.viewer.v0+json": {
       "columns": [
        {
         "name": "index",
         "rawType": "int64",
         "type": "integer"
        },
        {
         "name": "LIFESTAGE",
         "rawType": "object",
         "type": "string"
        },
        {
         "name": "PREMIUM_CUSTOMER",
         "rawType": "object",
         "type": "string"
        },
        {
         "name": "TOT_SALES",
         "rawType": "float64",
         "type": "float"
        }
       ],
       "ref": "e5bcfe93-99e9-4900-a63f-a55f80060a44",
       "rows": [
        [
         "6",
         "OLDER FAMILIES",
         "Budget",
         "160819.9"
        ],
        [
         "13",
         "RETIREES",
         "Mainstream",
         "144849.6"
        ],
        [
         "19",
         "YOUNG SINGLES/COUPLES",
         "Mainstream",
         "143754.2"
        ],
        [
         "15",
         "YOUNG FAMILIES",
         "Budget",
         "132724.6"
        ],
        [
         "9",
         "OLDER SINGLES/COUPLES",
         "Budget",
         "128810.6"
        ],
        [
         "10",
         "OLDER SINGLES/COUPLES",
         "Mainstream",
         "125452.2"
        ],
        [
         "11",
         "OLDER SINGLES/COUPLES",
         "Premium",
         "124497.0"
        ],
        [
         "12",
         "RETIREES",
         "Budget",
         "105358.9"
        ],
        [
         "7",
         "OLDER FAMILIES",
         "Mainstream",
         "98846.5"
        ],
        [
         "14",
         "RETIREES",
         "Premium",
         "91178.8"
        ]
       ],
       "shape": {
        "columns": 3,
        "rows": 10
       }
      },
      "text/html": [
       "<div>\n",
       "<style scoped>\n",
       "    .dataframe tbody tr th:only-of-type {\n",
       "        vertical-align: middle;\n",
       "    }\n",
       "\n",
       "    .dataframe tbody tr th {\n",
       "        vertical-align: top;\n",
       "    }\n",
       "\n",
       "    .dataframe thead th {\n",
       "        text-align: right;\n",
       "    }\n",
       "</style>\n",
       "<table border=\"1\" class=\"dataframe\">\n",
       "  <thead>\n",
       "    <tr style=\"text-align: right;\">\n",
       "      <th></th>\n",
       "      <th>LIFESTAGE</th>\n",
       "      <th>PREMIUM_CUSTOMER</th>\n",
       "      <th>TOT_SALES</th>\n",
       "    </tr>\n",
       "  </thead>\n",
       "  <tbody>\n",
       "    <tr>\n",
       "      <th>6</th>\n",
       "      <td>OLDER FAMILIES</td>\n",
       "      <td>Budget</td>\n",
       "      <td>160819.9</td>\n",
       "    </tr>\n",
       "    <tr>\n",
       "      <th>13</th>\n",
       "      <td>RETIREES</td>\n",
       "      <td>Mainstream</td>\n",
       "      <td>144849.6</td>\n",
       "    </tr>\n",
       "    <tr>\n",
       "      <th>19</th>\n",
       "      <td>YOUNG SINGLES/COUPLES</td>\n",
       "      <td>Mainstream</td>\n",
       "      <td>143754.2</td>\n",
       "    </tr>\n",
       "    <tr>\n",
       "      <th>15</th>\n",
       "      <td>YOUNG FAMILIES</td>\n",
       "      <td>Budget</td>\n",
       "      <td>132724.6</td>\n",
       "    </tr>\n",
       "    <tr>\n",
       "      <th>9</th>\n",
       "      <td>OLDER SINGLES/COUPLES</td>\n",
       "      <td>Budget</td>\n",
       "      <td>128810.6</td>\n",
       "    </tr>\n",
       "    <tr>\n",
       "      <th>10</th>\n",
       "      <td>OLDER SINGLES/COUPLES</td>\n",
       "      <td>Mainstream</td>\n",
       "      <td>125452.2</td>\n",
       "    </tr>\n",
       "    <tr>\n",
       "      <th>11</th>\n",
       "      <td>OLDER SINGLES/COUPLES</td>\n",
       "      <td>Premium</td>\n",
       "      <td>124497.0</td>\n",
       "    </tr>\n",
       "    <tr>\n",
       "      <th>12</th>\n",
       "      <td>RETIREES</td>\n",
       "      <td>Budget</td>\n",
       "      <td>105358.9</td>\n",
       "    </tr>\n",
       "    <tr>\n",
       "      <th>7</th>\n",
       "      <td>OLDER FAMILIES</td>\n",
       "      <td>Mainstream</td>\n",
       "      <td>98846.5</td>\n",
       "    </tr>\n",
       "    <tr>\n",
       "      <th>14</th>\n",
       "      <td>RETIREES</td>\n",
       "      <td>Premium</td>\n",
       "      <td>91178.8</td>\n",
       "    </tr>\n",
       "  </tbody>\n",
       "</table>\n",
       "</div>"
      ],
      "text/plain": [
       "                LIFESTAGE PREMIUM_CUSTOMER  TOT_SALES\n",
       "6          OLDER FAMILIES           Budget   160819.9\n",
       "13               RETIREES       Mainstream   144849.6\n",
       "19  YOUNG SINGLES/COUPLES       Mainstream   143754.2\n",
       "15         YOUNG FAMILIES           Budget   132724.6\n",
       "9   OLDER SINGLES/COUPLES           Budget   128810.6\n",
       "10  OLDER SINGLES/COUPLES       Mainstream   125452.2\n",
       "11  OLDER SINGLES/COUPLES          Premium   124497.0\n",
       "12               RETIREES           Budget   105358.9\n",
       "7          OLDER FAMILIES       Mainstream    98846.5\n",
       "14               RETIREES          Premium    91178.8"
      ]
     },
     "execution_count": 49,
     "metadata": {},
     "output_type": "execute_result"
    }
   ],
   "source": [
    "# Total des ventes par segment\n",
    "ventes_par_segment = df.groupby(['LIFESTAGE', 'PREMIUM_CUSTOMER'])['TOT_SALES'].sum().reset_index()\n",
    "ventes_par_segment = ventes_par_segment.sort_values('TOT_SALES', ascending=False)\n",
    "ventes_par_segment.head(10)"
   ]
  },
  {
   "cell_type": "code",
   "execution_count": 50,
   "id": "9a67eea7",
   "metadata": {},
   "outputs": [
    {
     "data": {
      "application/vnd.microsoft.datawrangler.viewer.v0+json": {
       "columns": [
        {
         "name": "index",
         "rawType": "int64",
         "type": "integer"
        },
        {
         "name": "LIFESTAGE",
         "rawType": "object",
         "type": "string"
        },
        {
         "name": "PREMIUM_CUSTOMER",
         "rawType": "object",
         "type": "string"
        },
        {
         "name": "NB_CLIENTS",
         "rawType": "int64",
         "type": "integer"
        }
       ],
       "ref": "75f72d95-a309-44c1-bb6d-eead55a61d93",
       "rows": [
        [
         "19",
         "YOUNG SINGLES/COUPLES",
         "Mainstream",
         "6822"
        ],
        [
         "13",
         "RETIREES",
         "Mainstream",
         "5576"
        ],
        [
         "9",
         "OLDER SINGLES/COUPLES",
         "Budget",
         "4397"
        ],
        [
         "10",
         "OLDER SINGLES/COUPLES",
         "Mainstream",
         "4332"
        ],
        [
         "11",
         "OLDER SINGLES/COUPLES",
         "Premium",
         "4227"
        ],
        [
         "6",
         "OLDER FAMILIES",
         "Budget",
         "4200"
        ],
        [
         "12",
         "RETIREES",
         "Budget",
         "3865"
        ],
        [
         "15",
         "YOUNG FAMILIES",
         "Budget",
         "3587"
        ],
        [
         "14",
         "RETIREES",
         "Premium",
         "3419"
        ],
        [
         "1",
         "MIDAGE SINGLES/COUPLES",
         "Mainstream",
         "2959"
        ]
       ],
       "shape": {
        "columns": 3,
        "rows": 10
       }
      },
      "text/html": [
       "<div>\n",
       "<style scoped>\n",
       "    .dataframe tbody tr th:only-of-type {\n",
       "        vertical-align: middle;\n",
       "    }\n",
       "\n",
       "    .dataframe tbody tr th {\n",
       "        vertical-align: top;\n",
       "    }\n",
       "\n",
       "    .dataframe thead th {\n",
       "        text-align: right;\n",
       "    }\n",
       "</style>\n",
       "<table border=\"1\" class=\"dataframe\">\n",
       "  <thead>\n",
       "    <tr style=\"text-align: right;\">\n",
       "      <th></th>\n",
       "      <th>LIFESTAGE</th>\n",
       "      <th>PREMIUM_CUSTOMER</th>\n",
       "      <th>NB_CLIENTS</th>\n",
       "    </tr>\n",
       "  </thead>\n",
       "  <tbody>\n",
       "    <tr>\n",
       "      <th>19</th>\n",
       "      <td>YOUNG SINGLES/COUPLES</td>\n",
       "      <td>Mainstream</td>\n",
       "      <td>6822</td>\n",
       "    </tr>\n",
       "    <tr>\n",
       "      <th>13</th>\n",
       "      <td>RETIREES</td>\n",
       "      <td>Mainstream</td>\n",
       "      <td>5576</td>\n",
       "    </tr>\n",
       "    <tr>\n",
       "      <th>9</th>\n",
       "      <td>OLDER SINGLES/COUPLES</td>\n",
       "      <td>Budget</td>\n",
       "      <td>4397</td>\n",
       "    </tr>\n",
       "    <tr>\n",
       "      <th>10</th>\n",
       "      <td>OLDER SINGLES/COUPLES</td>\n",
       "      <td>Mainstream</td>\n",
       "      <td>4332</td>\n",
       "    </tr>\n",
       "    <tr>\n",
       "      <th>11</th>\n",
       "      <td>OLDER SINGLES/COUPLES</td>\n",
       "      <td>Premium</td>\n",
       "      <td>4227</td>\n",
       "    </tr>\n",
       "    <tr>\n",
       "      <th>6</th>\n",
       "      <td>OLDER FAMILIES</td>\n",
       "      <td>Budget</td>\n",
       "      <td>4200</td>\n",
       "    </tr>\n",
       "    <tr>\n",
       "      <th>12</th>\n",
       "      <td>RETIREES</td>\n",
       "      <td>Budget</td>\n",
       "      <td>3865</td>\n",
       "    </tr>\n",
       "    <tr>\n",
       "      <th>15</th>\n",
       "      <td>YOUNG FAMILIES</td>\n",
       "      <td>Budget</td>\n",
       "      <td>3587</td>\n",
       "    </tr>\n",
       "    <tr>\n",
       "      <th>14</th>\n",
       "      <td>RETIREES</td>\n",
       "      <td>Premium</td>\n",
       "      <td>3419</td>\n",
       "    </tr>\n",
       "    <tr>\n",
       "      <th>1</th>\n",
       "      <td>MIDAGE SINGLES/COUPLES</td>\n",
       "      <td>Mainstream</td>\n",
       "      <td>2959</td>\n",
       "    </tr>\n",
       "  </tbody>\n",
       "</table>\n",
       "</div>"
      ],
      "text/plain": [
       "                 LIFESTAGE PREMIUM_CUSTOMER  NB_CLIENTS\n",
       "19   YOUNG SINGLES/COUPLES       Mainstream        6822\n",
       "13                RETIREES       Mainstream        5576\n",
       "9    OLDER SINGLES/COUPLES           Budget        4397\n",
       "10   OLDER SINGLES/COUPLES       Mainstream        4332\n",
       "11   OLDER SINGLES/COUPLES          Premium        4227\n",
       "6           OLDER FAMILIES           Budget        4200\n",
       "12                RETIREES           Budget        3865\n",
       "15          YOUNG FAMILIES           Budget        3587\n",
       "14                RETIREES          Premium        3419\n",
       "1   MIDAGE SINGLES/COUPLES       Mainstream        2959"
      ]
     },
     "execution_count": 50,
     "metadata": {},
     "output_type": "execute_result"
    }
   ],
   "source": [
    "# Nombre de clients par segment\n",
    "clients_par_segment = df.groupby(['LIFESTAGE', 'PREMIUM_CUSTOMER'])['LYLTY_CARD_NBR'].nunique().reset_index()\n",
    "clients_par_segment.rename(columns={'LYLTY_CARD_NBR': 'NB_CLIENTS'}, inplace=True)\n",
    "clients_par_segment = clients_par_segment.sort_values('NB_CLIENTS', ascending=False)\n",
    "clients_par_segment.head(10)"
   ]
  },
  {
   "cell_type": "code",
   "execution_count": 51,
   "id": "5fa0bba7",
   "metadata": {},
   "outputs": [
    {
     "data": {
      "application/vnd.microsoft.datawrangler.viewer.v0+json": {
       "columns": [
        {
         "name": "index",
         "rawType": "int64",
         "type": "integer"
        },
        {
         "name": "LIFESTAGE",
         "rawType": "object",
         "type": "string"
        },
        {
         "name": "PREMIUM_CUSTOMER",
         "rawType": "object",
         "type": "string"
        },
        {
         "name": "QTE_MOYENNE_PAR_CLIENT",
         "rawType": "float64",
         "type": "float"
        }
       ],
       "ref": "1fbbe440-1133-4204-8dab-e27e217f3148",
       "rows": [
        [
         "7",
         "OLDER FAMILIES",
         "Mainstream",
         "10.422955974842766"
        ],
        [
         "6",
         "OLDER FAMILIES",
         "Budget",
         "10.241904761904761"
        ],
        [
         "8",
         "OLDER FAMILIES",
         "Premium",
         "10.14977973568282"
        ],
        [
         "17",
         "YOUNG FAMILIES",
         "Premium",
         "9.91891891891892"
        ],
        [
         "15",
         "YOUNG FAMILIES",
         "Budget",
         "9.844438249233342"
        ],
        [
         "16",
         "YOUNG FAMILIES",
         "Mainstream",
         "9.829540752999586"
        ],
        [
         "10",
         "OLDER SINGLES/COUPLES",
         "Mainstream",
         "7.584487534626039"
        ],
        [
         "11",
         "OLDER SINGLES/COUPLES",
         "Premium",
         "7.555713271823989"
        ],
        [
         "9",
         "OLDER SINGLES/COUPLES",
         "Budget",
         "7.536047304980668"
        ],
        [
         "1",
         "MIDAGE SINGLES/COUPLES",
         "Mainstream",
         "7.20513687056438"
        ]
       ],
       "shape": {
        "columns": 3,
        "rows": 10
       }
      },
      "text/html": [
       "<div>\n",
       "<style scoped>\n",
       "    .dataframe tbody tr th:only-of-type {\n",
       "        vertical-align: middle;\n",
       "    }\n",
       "\n",
       "    .dataframe tbody tr th {\n",
       "        vertical-align: top;\n",
       "    }\n",
       "\n",
       "    .dataframe thead th {\n",
       "        text-align: right;\n",
       "    }\n",
       "</style>\n",
       "<table border=\"1\" class=\"dataframe\">\n",
       "  <thead>\n",
       "    <tr style=\"text-align: right;\">\n",
       "      <th></th>\n",
       "      <th>LIFESTAGE</th>\n",
       "      <th>PREMIUM_CUSTOMER</th>\n",
       "      <th>QTE_MOYENNE_PAR_CLIENT</th>\n",
       "    </tr>\n",
       "  </thead>\n",
       "  <tbody>\n",
       "    <tr>\n",
       "      <th>7</th>\n",
       "      <td>OLDER FAMILIES</td>\n",
       "      <td>Mainstream</td>\n",
       "      <td>10.422956</td>\n",
       "    </tr>\n",
       "    <tr>\n",
       "      <th>6</th>\n",
       "      <td>OLDER FAMILIES</td>\n",
       "      <td>Budget</td>\n",
       "      <td>10.241905</td>\n",
       "    </tr>\n",
       "    <tr>\n",
       "      <th>8</th>\n",
       "      <td>OLDER FAMILIES</td>\n",
       "      <td>Premium</td>\n",
       "      <td>10.149780</td>\n",
       "    </tr>\n",
       "    <tr>\n",
       "      <th>17</th>\n",
       "      <td>YOUNG FAMILIES</td>\n",
       "      <td>Premium</td>\n",
       "      <td>9.918919</td>\n",
       "    </tr>\n",
       "    <tr>\n",
       "      <th>15</th>\n",
       "      <td>YOUNG FAMILIES</td>\n",
       "      <td>Budget</td>\n",
       "      <td>9.844438</td>\n",
       "    </tr>\n",
       "    <tr>\n",
       "      <th>16</th>\n",
       "      <td>YOUNG FAMILIES</td>\n",
       "      <td>Mainstream</td>\n",
       "      <td>9.829541</td>\n",
       "    </tr>\n",
       "    <tr>\n",
       "      <th>10</th>\n",
       "      <td>OLDER SINGLES/COUPLES</td>\n",
       "      <td>Mainstream</td>\n",
       "      <td>7.584488</td>\n",
       "    </tr>\n",
       "    <tr>\n",
       "      <th>11</th>\n",
       "      <td>OLDER SINGLES/COUPLES</td>\n",
       "      <td>Premium</td>\n",
       "      <td>7.555713</td>\n",
       "    </tr>\n",
       "    <tr>\n",
       "      <th>9</th>\n",
       "      <td>OLDER SINGLES/COUPLES</td>\n",
       "      <td>Budget</td>\n",
       "      <td>7.536047</td>\n",
       "    </tr>\n",
       "    <tr>\n",
       "      <th>1</th>\n",
       "      <td>MIDAGE SINGLES/COUPLES</td>\n",
       "      <td>Mainstream</td>\n",
       "      <td>7.205137</td>\n",
       "    </tr>\n",
       "  </tbody>\n",
       "</table>\n",
       "</div>"
      ],
      "text/plain": [
       "                 LIFESTAGE PREMIUM_CUSTOMER  QTE_MOYENNE_PAR_CLIENT\n",
       "7           OLDER FAMILIES       Mainstream               10.422956\n",
       "6           OLDER FAMILIES           Budget               10.241905\n",
       "8           OLDER FAMILIES          Premium               10.149780\n",
       "17          YOUNG FAMILIES          Premium                9.918919\n",
       "15          YOUNG FAMILIES           Budget                9.844438\n",
       "16          YOUNG FAMILIES       Mainstream                9.829541\n",
       "10   OLDER SINGLES/COUPLES       Mainstream                7.584488\n",
       "11   OLDER SINGLES/COUPLES          Premium                7.555713\n",
       "9    OLDER SINGLES/COUPLES           Budget                7.536047\n",
       "1   MIDAGE SINGLES/COUPLES       Mainstream                7.205137"
      ]
     },
     "execution_count": 51,
     "metadata": {},
     "output_type": "execute_result"
    }
   ],
   "source": [
    "# Quantité moyenne de chips achetée par client et par segment\n",
    "quantite_par_client_segment = df.groupby(['LIFESTAGE', 'PREMIUM_CUSTOMER', 'LYLTY_CARD_NBR'])['PROD_QTY'].sum().reset_index()\n",
    "quantite_moyenne_segment = quantite_par_client_segment.groupby(['LIFESTAGE', 'PREMIUM_CUSTOMER'])['PROD_QTY'].mean().reset_index()\n",
    "quantite_moyenne_segment.rename(columns={'PROD_QTY': 'QTE_MOYENNE_PAR_CLIENT'}, inplace=True)\n",
    "quantite_moyenne_segment = quantite_moyenne_segment.sort_values('QTE_MOYENNE_PAR_CLIENT', ascending=False)\n",
    "quantite_moyenne_segment.head(10)"
   ]
  },
  {
   "cell_type": "code",
   "execution_count": 52,
   "id": "49e01a4d",
   "metadata": {},
   "outputs": [
    {
     "data": {
      "application/vnd.microsoft.datawrangler.viewer.v0+json": {
       "columns": [
        {
         "name": "index",
         "rawType": "int64",
         "type": "integer"
        },
        {
         "name": "LIFESTAGE",
         "rawType": "object",
         "type": "string"
        },
        {
         "name": "PREMIUM_CUSTOMER",
         "rawType": "object",
         "type": "string"
        },
        {
         "name": "PRIX_MOYEN_PAR_UNITE",
         "rawType": "float64",
         "type": "float"
        }
       ],
       "ref": "5dea6048-68ed-4d62-86e3-0aba30959435",
       "rows": [
        [
         "19",
         "YOUNG SINGLES/COUPLES",
         "Mainstream",
         "4.090433644434327"
        ],
        [
         "1",
         "MIDAGE SINGLES/COUPLES",
         "Mainstream",
         "3.9990290806754216"
        ],
        [
         "4",
         "NEW FAMILIES",
         "Mainstream",
         "3.966742654508612"
        ],
        [
         "3",
         "NEW FAMILIES",
         "Budget",
         "3.9577725304998035"
        ],
        [
         "12",
         "RETIREES",
         "Budget",
         "3.9418923974857827"
        ],
        [
         "14",
         "RETIREES",
         "Premium",
         "3.9284274019819043"
        ],
        [
         "5",
         "NEW FAMILIES",
         "Premium",
         "3.8995591476855247"
        ],
        [
         "11",
         "OLDER SINGLES/COUPLES",
         "Premium",
         "3.8980837873379675"
        ],
        [
         "9",
         "OLDER SINGLES/COUPLES",
         "Budget",
         "3.8873309995171414"
        ],
        [
         "13",
         "RETIREES",
         "Mainstream",
         "3.856690984610469"
        ]
       ],
       "shape": {
        "columns": 3,
        "rows": 10
       }
      },
      "text/html": [
       "<div>\n",
       "<style scoped>\n",
       "    .dataframe tbody tr th:only-of-type {\n",
       "        vertical-align: middle;\n",
       "    }\n",
       "\n",
       "    .dataframe tbody tr th {\n",
       "        vertical-align: top;\n",
       "    }\n",
       "\n",
       "    .dataframe thead th {\n",
       "        text-align: right;\n",
       "    }\n",
       "</style>\n",
       "<table border=\"1\" class=\"dataframe\">\n",
       "  <thead>\n",
       "    <tr style=\"text-align: right;\">\n",
       "      <th></th>\n",
       "      <th>LIFESTAGE</th>\n",
       "      <th>PREMIUM_CUSTOMER</th>\n",
       "      <th>PRIX_MOYEN_PAR_UNITE</th>\n",
       "    </tr>\n",
       "  </thead>\n",
       "  <tbody>\n",
       "    <tr>\n",
       "      <th>19</th>\n",
       "      <td>YOUNG SINGLES/COUPLES</td>\n",
       "      <td>Mainstream</td>\n",
       "      <td>4.090434</td>\n",
       "    </tr>\n",
       "    <tr>\n",
       "      <th>1</th>\n",
       "      <td>MIDAGE SINGLES/COUPLES</td>\n",
       "      <td>Mainstream</td>\n",
       "      <td>3.999029</td>\n",
       "    </tr>\n",
       "    <tr>\n",
       "      <th>4</th>\n",
       "      <td>NEW FAMILIES</td>\n",
       "      <td>Mainstream</td>\n",
       "      <td>3.966743</td>\n",
       "    </tr>\n",
       "    <tr>\n",
       "      <th>3</th>\n",
       "      <td>NEW FAMILIES</td>\n",
       "      <td>Budget</td>\n",
       "      <td>3.957773</td>\n",
       "    </tr>\n",
       "    <tr>\n",
       "      <th>12</th>\n",
       "      <td>RETIREES</td>\n",
       "      <td>Budget</td>\n",
       "      <td>3.941892</td>\n",
       "    </tr>\n",
       "    <tr>\n",
       "      <th>14</th>\n",
       "      <td>RETIREES</td>\n",
       "      <td>Premium</td>\n",
       "      <td>3.928427</td>\n",
       "    </tr>\n",
       "    <tr>\n",
       "      <th>5</th>\n",
       "      <td>NEW FAMILIES</td>\n",
       "      <td>Premium</td>\n",
       "      <td>3.899559</td>\n",
       "    </tr>\n",
       "    <tr>\n",
       "      <th>11</th>\n",
       "      <td>OLDER SINGLES/COUPLES</td>\n",
       "      <td>Premium</td>\n",
       "      <td>3.898084</td>\n",
       "    </tr>\n",
       "    <tr>\n",
       "      <th>9</th>\n",
       "      <td>OLDER SINGLES/COUPLES</td>\n",
       "      <td>Budget</td>\n",
       "      <td>3.887331</td>\n",
       "    </tr>\n",
       "    <tr>\n",
       "      <th>13</th>\n",
       "      <td>RETIREES</td>\n",
       "      <td>Mainstream</td>\n",
       "      <td>3.856691</td>\n",
       "    </tr>\n",
       "  </tbody>\n",
       "</table>\n",
       "</div>"
      ],
      "text/plain": [
       "                 LIFESTAGE PREMIUM_CUSTOMER  PRIX_MOYEN_PAR_UNITE\n",
       "19   YOUNG SINGLES/COUPLES       Mainstream              4.090434\n",
       "1   MIDAGE SINGLES/COUPLES       Mainstream              3.999029\n",
       "4             NEW FAMILIES       Mainstream              3.966743\n",
       "3             NEW FAMILIES           Budget              3.957773\n",
       "12                RETIREES           Budget              3.941892\n",
       "14                RETIREES          Premium              3.928427\n",
       "5             NEW FAMILIES          Premium              3.899559\n",
       "11   OLDER SINGLES/COUPLES          Premium              3.898084\n",
       "9    OLDER SINGLES/COUPLES           Budget              3.887331\n",
       "13                RETIREES       Mainstream              3.856691"
      ]
     },
     "execution_count": 52,
     "metadata": {},
     "output_type": "execute_result"
    }
   ],
   "source": [
    "# Prix moyen par unité par segment\n",
    "prix_moyen_unite_segment = df.groupby(['LIFESTAGE', 'PREMIUM_CUSTOMER']).apply(lambda x: x['TOT_SALES'].sum() / x['PROD_QTY'].sum()).reset_index(name='PRIX_MOYEN_PAR_UNITE')\n",
    "prix_moyen_unite_segment = prix_moyen_unite_segment.sort_values('PRIX_MOYEN_PAR_UNITE', ascending=False)\n",
    "prix_moyen_unite_segment.head(10)"
   ]
  },
  {
   "cell_type": "markdown",
   "id": "38bb09e6",
   "metadata": {},
   "source": [
    "## Visualisations des indicateurs par segment\n",
    "\n",
    "Les graphiques suivants illustrent les principaux indicateurs analysés pour chaque segment (LIFESTAGE, PREMIUM_CUSTOMER) :\n",
    "- Total des ventes\n",
    "- Nombre de clients\n",
    "- Quantité moyenne de chips achetée par client\n",
    "- Prix moyen par unité"
   ]
  },
  {
   "cell_type": "code",
   "execution_count": 53,
   "id": "a4e16f51",
   "metadata": {},
   "outputs": [
    {
     "data": {
      "image/png": "[encoded data removed]",
      "text/plain": [
       "<Figure size 1400x600 with 1 Axes>"
      ]
     },
     "metadata": {},
     "output_type": "display_data"
    }
   ],
   "source": [
    "# Visualisation du total des ventes par segment\n",
    "import seaborn as sns\n",
    "plt.figure(figsize=(14, 6))\n",
    "sns.barplot(\n",
    "    data=ventes_par_segment,\n",
    "    x='LIFESTAGE',\n",
    "    y='TOT_SALES',\n",
    "    hue='PREMIUM_CUSTOMER',\n",
    "    palette='Set2'\n",
    ")\n",
    "plt.title('Total des ventes par segment (LIFESTAGE, PREMIUM_CUSTOMER)')\n",
    "plt.ylabel('Total des ventes')\n",
    "plt.xlabel('LIFESTAGE')\n",
    "plt.xticks(rotation=30, ha='right')\n",
    "plt.legend(title='PREMIUM_CUSTOMER')\n",
    "plt.tight_layout()\n",
    "plt.show()"
   ]
  },
  {
   "cell_type": "code",
   "execution_count": 54,
   "id": "b37812c0",
   "metadata": {},
   "outputs": [
    {
     "data": {
      "image/png": "[encoded data removed]",
      "text/plain": [
       "<Figure size 1400x600 with 1 Axes>"
      ]
     },
     "metadata": {},
     "output_type": "display_data"
    }
   ],
   "source": [
    "# Visualisation du nombre de clients par segment\n",
    "plt.figure(figsize=(14, 6))\n",
    "sns.barplot(\n",
    "    data=clients_par_segment,\n",
    "    x='LIFESTAGE',\n",
    "    y='NB_CLIENTS',\n",
    "    hue='PREMIUM_CUSTOMER',\n",
    "    palette='Set1'\n",
    ")\n",
    "plt.title('Nombre de clients par segment (LIFESTAGE, PREMIUM_CUSTOMER)')\n",
    "plt.ylabel('Nombre de clients')\n",
    "plt.xlabel('LIFESTAGE')\n",
    "plt.xticks(rotation=30, ha='right')\n",
    "plt.legend(title='PREMIUM_CUSTOMER')\n",
    "plt.tight_layout()\n",
    "plt.show()"
   ]
  },
  {
   "cell_type": "code",
   "execution_count": 55,
   "id": "448ba714",
   "metadata": {},
   "outputs": [
    {
     "data": {
      "image/png": "[encoded data removed]",
      "text/plain": [
       "<Figure size 1400x600 with 1 Axes>"
      ]
     },
     "metadata": {},
     "output_type": "display_data"
    }
   ],
   "source": [
    "# Visualisation de la quantité moyenne de chips achetée par client et par segment\n",
    "plt.figure(figsize=(14, 6))\n",
    "sns.barplot(\n",
    "    data=quantite_moyenne_segment,\n",
    "    x='LIFESTAGE',\n",
    "    y='QTE_MOYENNE_PAR_CLIENT',\n",
    "    hue='PREMIUM_CUSTOMER',\n",
    "    palette='Set3'\n",
    ")\n",
    "plt.title('Quantité moyenne de chips achetée par client et par segment')\n",
    "plt.ylabel('Quantité moyenne par client')\n",
    "plt.xlabel('LIFESTAGE')\n",
    "plt.xticks(rotation=30, ha='right')\n",
    "plt.legend(title='PREMIUM_CUSTOMER')\n",
    "plt.tight_layout()\n",
    "plt.show()"
   ]
  },
  {
   "cell_type": "code",
   "execution_count": 56,
   "id": "fb3c57ed",
   "metadata": {},
   "outputs": [
    {
     "data": {
      "image/png": "[encoded data removed]",
      "text/plain": [
       "<Figure size 1400x600 with 1 Axes>"
      ]
     },
     "metadata": {},
     "output_type": "display_data"
    }
   ],
   "source": [
    "# Visualisation du prix moyen par unité par segment\n",
    "plt.figure(figsize=(14, 6))\n",
    "sns.barplot(\n",
    "    data=prix_moyen_unite_segment,\n",
    "    x='LIFESTAGE',\n",
    "    y='PRIX_MOYEN_PAR_UNITE',\n",
    "    hue='PREMIUM_CUSTOMER',\n",
    "    palette='coolwarm'\n",
    ")\n",
    "plt.title('Prix moyen par unité par segment (LIFESTAGE, PREMIUM_CUSTOMER)')\n",
    "plt.ylabel('Prix moyen par unité')\n",
    "plt.xlabel('LIFESTAGE')\n",
    "plt.xticks(rotation=30, ha='right')\n",
    "plt.legend(title='PREMIUM_CUSTOMER')\n",
    "plt.tight_layout()\n",
    "plt.show()"
   ]
  },
  {
   "cell_type": "markdown",
   "id": "f558de1b",
   "metadata": {},
   "source": [
    "# Deep dive : Mainstream Young Singles/Couples\n",
    "\n",
    "Analyse détaillée du segment **Mainstream Young Singles/Couples** :\n",
    "- Affinité à certaines marques (Tyrrells, Burger Rings)\n",
    "- Préférence pour certains pack sizes (notamment 270g)\n",
    "\n",
    "Nous allons comparer la propension de ce segment à acheter ces marques et tailles par rapport au reste des clients."
   ]
  },
  {
   "cell_type": "code",
   "execution_count": 57,
   "id": "c0ec3828",
   "metadata": {},
   "outputs": [
    {
     "name": "stdout",
     "output_type": "stream",
     "text": [
      "Tyrrells : +23% de différence dans le segment vs reste\n",
      "Burger Rings : -59% de différence dans le segment vs reste\n",
      "Pack 270g : +28% de différence dans le segment vs reste\n"
     ]
    }
   ],
   "source": [
    "# Filtrer le segment cible\n",
    "segment = df[(df['LIFESTAGE'] == 'YOUNG SINGLES/COUPLES') & (df['PREMIUM_CUSTOMER'] == 'Mainstream')]\n",
    "reste = df[~((df['LIFESTAGE'] == 'YOUNG SINGLES/COUPLES') & (df['PREMIUM_CUSTOMER'] == 'Mainstream'))]\n",
    "\n",
    "# Affinité à la marque Tyrrells\n",
    "part_tyrrells_segment = segment['BRAND'].value_counts(normalize=True).get('Tyrrells', 0)\n",
    "part_tyrrells_reste = reste['BRAND'].value_counts(normalize=True).get('Tyrrells', 0)\n",
    "variation_tyrrells = (part_tyrrells_segment - part_tyrrells_reste) / part_tyrrells_reste * 100 if part_tyrrells_reste > 0 else None\n",
    "\n",
    "# Affinité à la marque Burger Rings\n",
    "part_burgerrings_segment = segment['BRAND'].value_counts(normalize=True).get('Burger', 0)\n",
    "part_burgerrings_reste = reste['BRAND'].value_counts(normalize=True).get('Burger', 0)\n",
    "variation_burgerrings = (part_burgerrings_segment - part_burgerrings_reste) / part_burgerrings_reste * 100 if part_burgerrings_reste > 0 else None\n",
    "\n",
    "# Préférence pour le pack size 270g\n",
    "part_270g_segment = segment['PACK_SIZE'].value_counts(normalize=True).get(270, 0)\n",
    "part_270g_reste = reste['PACK_SIZE'].value_counts(normalize=True).get(270, 0)\n",
    "variation_270g = (part_270g_segment - part_270g_reste) / part_270g_reste * 100 if part_270g_reste > 0 else None\n",
    "\n",
    "print(f\"Tyrrells : {variation_tyrrells:+.0f}% de différence dans le segment vs reste\")\n",
    "print(f\"Burger Rings : {variation_burgerrings:+.0f}% de différence dans le segment vs reste\")\n",
    "print(f\"Pack 270g : {variation_270g:+.0f}% de différence dans le segment vs reste\")"
   ]
  },
  {
   "cell_type": "code",
   "execution_count": 58,
   "id": "e4bdf978",
   "metadata": {},
   "outputs": [
    {
     "data": {
      "image/png": "[encoded data removed]",
      "text/plain": [
       "<Figure size 800x500 with 1 Axes>"
      ]
     },
     "metadata": {},
     "output_type": "display_data"
    }
   ],
   "source": [
    "# Visualisation des différences d'affinité\n",
    "labels = ['Tyrrells', 'Burger Rings', 'Pack 270g']\n",
    "segment_vals = [part_tyrrells_segment, part_burgerrings_segment, part_270g_segment]\n",
    "reste_vals = [part_tyrrells_reste, part_burgerrings_reste, part_270g_reste]\n",
    "\n",
    "x = range(len(labels))\n",
    "plt.figure(figsize=(8, 5))\n",
    "plt.bar(x, segment_vals, width=0.35, label='Mainstream Young Singles/Couples', color='#4F81BD')\n",
    "plt.bar([i + 0.35 for i in x], reste_vals, width=0.35, label='Autres clients', color='#C0504D')\n",
    "plt.xticks([i + 0.175 for i in x], labels)\n",
    "plt.ylabel('Part des achats (%)')\n",
    "plt.title(\"Affinité aux marques et pack size (part des achats)\")\n",
    "plt.legend()\n",
    "plt.tight_layout()\n",
    "plt.show()"
   ]
  },
  {
   "cell_type": "markdown",
   "id": "1a41e275",
   "metadata": {},
   "source": [
    "# Conclusions de l’analyse (avec références aux visualisations et données)\n",
    "\n",
    "Voici les principaux enseignements tirés de l’ensemble des analyses, avec les visualisations ou tableaux correspondants :\n",
    "\n",
    "**1. Segmentation et comportements clients**\n",
    "- Les segments les plus rentables sont : Budget – Older Families, Mainstream – Young Singles/Couples, Mainstream – Retirees.\n",
    "    - *Voir le graphique « Total des ventes par segment » (Cellule 1 des visualisations)*\n",
    "- Les jeunes couples mainstream sont nombreux et dépensent plus par unité.\n",
    "    - *Voir « Nombre de clients par segment » et « Prix moyen par unité par segment » (Cellules 2 et 4 des visualisations)*\n",
    "\n",
    "**2. Dépenses et quantités**\n",
    "- Les clients les plus dépensiers ne sont pas forcément ceux qui achètent le plus de paquets, mais ceux qui achètent des produits plus chers ou en plus grande quantité par transaction.\n",
    "    - *Voir « Dépense totale par client » et « Quantité totale achetée par client » (Cellules 1 et 4 des analyses clients)*\n",
    "- Les tailles de paquets préférées varient selon les segments, avec une préférence marquée pour le 270g chez les jeunes couples mainstream.\n",
    "    - *Voir l’analyse deep dive et la visualisation d’affinité (fin du notebook)*\n",
    "\n",
    "**3. Affinité aux marques**\n",
    "- Le segment Mainstream Young Singles/Couples est particulièrement attiré par la marque Tyrrells (+23% par rapport au reste), et moins par Burger Rings (-56%).\n",
    "    - *Voir la visualisation « Affinité aux marques et pack size » (fin du notebook)*\n",
    "- Ce même segment est aussi plus enclin à acheter des paquets de 270g (+27%).\n",
    "    - *Voir la même visualisation d’affinité (fin du notebook)*\n",
    "\n",
    "**4. Prix moyen par unité**\n",
    "- Le prix moyen par unité est significativement plus élevé pour les segments Mainstream jeunes et midage que pour Budget ou Premium.\n",
    "    - *Voir « Prix moyen par unité par segment » (Cellule 4 des visualisations)*\n",
    "\n",
    "**5. Recommandations**\n",
    "- Cibler les segments Mainstream Young Singles/Couples et Older Families avec des offres spécifiques (packs 270g, marques premium).\n",
    "- Adapter la communication et les promotions selon les préférences de chaque segment pour maximiser la valeur client.\n",
    "    - *Ces recommandations sont issues de l’ensemble des visualisations et analyses précédentes.*\n",
    "\n",
    "**En résumé :**\n",
    "L’analyse met en évidence l’importance de la segmentation pour comprendre les comportements d’achat et optimiser les stratégies marketing. Les différences d’affinité aux marques, de taille de paquet et de prix moyen par segment offrent des leviers d’action concrets pour augmenter les ventes et la satisfaction client."
   ]
  }
 ],
 "metadata": {
  "kernelspec": {
   "display_name": "base",
   "language": "python",
   "name": "python3"
  },
  "language_info": {
   "codemirror_mode": {
    "name": "ipython",
    "version": 3
   },
   "file_extension": ".py",
   "mimetype": "text/x-python",
   "name": "python",
   "nbconvert_exporter": "python",
   "pygments_lexer": "ipython3",
   "version": "3.10.14"
  }
 },
 "nbformat": 4,
 "nbformat_minor": 5
}
